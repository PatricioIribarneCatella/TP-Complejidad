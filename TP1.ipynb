{
 "cells": [
  {
   "cell_type": "code",
   "execution_count": 4,
   "metadata": {},
   "outputs": [],
   "source": [
    "import random\n",
    "from llist import sllist\n",
    "from math import sqrt, factorial\n",
    "from functools import reduce"
   ]
  },
  {
   "cell_type": "markdown",
   "metadata": {},
   "source": [
    "# Parte 2: Funciones matemáticas / estadísticas\n",
    "\n",
    "\n",
    "Dados un conjunto de n números, las siguientes funciones matemáticas / estadísticas:\n",
    "\n",
    "- Máximo\n",
    "- Media\n",
    "- Moda\n",
    "- Mediana\n",
    "- Desviación estándar\n",
    "- Permutaciones del conjunto\n",
    "- Variaciones del conjunto tomados de r elementos (r«n)\n",
    "- Variaciones con repetición del conjunto de r elementos (r«n)\n",
    "\n",
    "Y los diferentes escenarios propuestos:\n",
    "\n",
    "- Los valores están cargados en un vector\n",
    "- Los valores están cargados en una lista\n",
    "- Los valores están ordenados en un vector de mayor a menor\n",
    "- Los valores están precargados en un estructura sugerida por el grupo.\n",
    "\n",
    "Resuelva:\n",
    "\n",
    "1. Proponga algoritmos para cada una de las resoluciones\n",
    "2. Analice la complejidad algorítmica (tiempo y espacio) de cada caso teniendo en cuenta el mejor, peor y caso promedio.\n",
    "3. Compare entre cada función su complejidad gráficamente.\n",
    "4. Programe los algoritmos.\n"
   ]
  },
  {
   "cell_type": "markdown",
   "metadata": {},
   "source": [
    "**Nota: Las python `list` estan implementadas internamente como `array`.**  \n",
    "Fuente: https://wiki.python.org/moin/TimeComplexity"
   ]
  },
  {
   "cell_type": "markdown",
   "metadata": {},
   "source": [
    "## Los valores están cargados en un vector"
   ]
  },
  {
   "cell_type": "code",
   "execution_count": 67,
   "metadata": {},
   "outputs": [
    {
     "name": "stdout",
     "output_type": "stream",
     "text": [
      "[2, 60, 68, 20, 82, 66, 52, 97, 91, 52, 58, 17, 13, 58, 30, 8, 98, 37, 50, 54, 23, 32, 59, 91, 79, 18, 90, 15, 93, 91, 28, 81, 80, 62, 88, 94, 1, 34, 48, 42, 89, 96, 74, 27, 55, 35, 26, 91, 19, 15, 39, 99, 90, 36, 1, 46, 44, 43, 59, 94, 5, 20, 12, 72, 37, 44, 33, 68, 12, 68, 7, 58, 74, 23, 51, 91, 76, 26, 64, 88, 13, 11, 96, 27, 22, 8, 38, 0, 51, 8, 9, 55, 32, 54, 8, 83, 3, 25, 33, 44]\n"
     ]
    }
   ],
   "source": [
    "vector = [random.randint(0,99) for i in range(100)]\n",
    "print (vector)"
   ]
  },
  {
   "cell_type": "markdown",
   "metadata": {},
   "source": [
    "**a) Máximo**"
   ]
  },
  {
   "cell_type": "code",
   "execution_count": 68,
   "metadata": {},
   "outputs": [
    {
     "name": "stdout",
     "output_type": "stream",
     "text": [
      "99\n"
     ]
    }
   ],
   "source": [
    "# Tiempo O(n)\n",
    "# Tamaño O(n + 1)\n",
    "\n",
    "\n",
    "maximo = vector[0]\n",
    "for elemento in vector:\n",
    "    maximo = max(maximo, elemento)\n",
    "    \n",
    "print(maximo)"
   ]
  },
  {
   "cell_type": "markdown",
   "metadata": {},
   "source": [
    "**b) Media**"
   ]
  },
  {
   "cell_type": "code",
   "execution_count": 69,
   "metadata": {},
   "outputs": [
    {
     "name": "stdout",
     "output_type": "stream",
     "text": [
      "47.89\n"
     ]
    }
   ],
   "source": [
    "# Tiempo O(n)\n",
    "# Tamaño O(n + 1)\n",
    "\n",
    "media = 0\n",
    "cantidad = 0\n",
    "for elemento in vector:\n",
    "    media += elemento\n",
    "    cantidad += 1\n",
    "    \n",
    "media = media/cantidad\n",
    "\n",
    "print(media)"
   ]
  },
  {
   "cell_type": "markdown",
   "metadata": {},
   "source": [
    "**c) Moda**"
   ]
  },
  {
   "cell_type": "code",
   "execution_count": 70,
   "metadata": {},
   "outputs": [
    {
     "name": "stdout",
     "output_type": "stream",
     "text": [
      "91\n",
      "5\n"
     ]
    }
   ],
   "source": [
    "# Tiempo O(n) //Asumiendo que insert y get del dict es O(1)\n",
    "# Tamaño O(n + n)\n",
    "\n",
    "apariciones = {}\n",
    "moda = vector[0]\n",
    "for elemento in vector:\n",
    "    apariciones[elemento] = apariciones.get(elemento, 0) + 1\n",
    "    moda = moda if apariciones[moda] > apariciones[elemento] else elemento\n",
    "\n",
    "print(moda)\n",
    "print(apariciones[moda])"
   ]
  },
  {
   "cell_type": "markdown",
   "metadata": {},
   "source": [
    "**d) Mediana**"
   ]
  },
  {
   "cell_type": "code",
   "execution_count": 111,
   "metadata": {},
   "outputs": [
    {
     "name": "stdout",
     "output_type": "stream",
     "text": [
      "47.0\n"
     ]
    }
   ],
   "source": [
    "# Verificar si hay otro metodo\n",
    "# Tiempo O(n log(n))\n",
    "# Tamaño O(n + n)\n",
    "ordenado = sorted(vector)\n",
    "\n",
    "\n",
    "if len(vector) % 2 == 1:\n",
    "    print (ordenado[len(vector) // 2])\n",
    "else:\n",
    "    print((ordenado[len(vector) // 2] + ordenado[len(vector) // 2 + 1 ]) / 2)"
   ]
  },
  {
   "cell_type": "markdown",
   "metadata": {},
   "source": [
    "**e) Desviación estándar**"
   ]
  },
  {
   "cell_type": "code",
   "execution_count": 72,
   "metadata": {},
   "outputs": [
    {
     "name": "stdout",
     "output_type": "stream",
     "text": [
      "29.880058567546353\n"
     ]
    }
   ],
   "source": [
    "# media Calculada en un ejercicio anterior en O(n)\n",
    "# Tiempo O(n)\n",
    "# Tamaño O(n + 1)\n",
    "varianza = 0\n",
    "for elemento in vector:\n",
    "    varianza += (media - elemento)**2\n",
    "\n",
    "varianza = varianza/cantidad\n",
    "desvio = sqrt(varianza)\n",
    "print (desvio)"
   ]
  },
  {
   "cell_type": "markdown",
   "metadata": {},
   "source": [
    "**f) Permutaciones del conjunto**"
   ]
  },
  {
   "cell_type": "code",
   "execution_count": 73,
   "metadata": {},
   "outputs": [
    {
     "name": "stdout",
     "output_type": "stream",
     "text": [
      "71536470161623787274162004373160271741109473427183973222444335171360783120448571241917942513528949352091429656078068377190400000000000000000000000\n"
     ]
    }
   ],
   "source": [
    "# Verificar si hay otro metdo\n",
    "# Encontrar la cantidad de apariciones de cada uno es O(n)\n",
    "# Tiempo Costo factorial es O(k) => Total e O(Sumatoria(apariciones) + n) + (numeros distintos)) => Peor caso O(n + n + n)= O(n) => Mejor caso O(n) => Caso promedio O(n) \n",
    "#                                       apariciones!             cant!      reduce\n",
    "# Tamaño O(n + numeros_distintos)\n",
    "# Sumatoria(apariciones ) = n\n",
    "permutaciones = factorial(cantidad)//reduce(lambda x,y: x*y, [factorial(aparicion) for aparicion in apariciones.values()])\n",
    "\n",
    "print(permutaciones)"
   ]
  },
  {
   "cell_type": "markdown",
   "metadata": {},
   "source": [
    "**g) Variaciones del conjunto tomados de r elementos (r«n)**"
   ]
  },
  {
   "cell_type": "code",
   "execution_count": null,
   "metadata": {},
   "outputs": [],
   "source": []
  },
  {
   "cell_type": "markdown",
   "metadata": {},
   "source": [
    "**h) Variaciones con repetición del conjunto de r elementos (r«n)**"
   ]
  },
  {
   "cell_type": "code",
   "execution_count": null,
   "metadata": {},
   "outputs": [],
   "source": []
  },
  {
   "cell_type": "markdown",
   "metadata": {},
   "source": [
    "## Los valores están cargados en una lista"
   ]
  },
  {
   "cell_type": "code",
   "execution_count": 74,
   "metadata": {},
   "outputs": [],
   "source": [
    "lista = sllist(vector)"
   ]
  },
  {
   "cell_type": "markdown",
   "metadata": {},
   "source": [
    "**a) Máximo**"
   ]
  },
  {
   "cell_type": "code",
   "execution_count": 109,
   "metadata": {},
   "outputs": [
    {
     "name": "stdout",
     "output_type": "stream",
     "text": [
      "99\n"
     ]
    }
   ],
   "source": [
    "# Tiempo O(n)\n",
    "# Tamaño O(n + 1)\n",
    "\n",
    "maximo = lista.first()\n",
    "for elemento in lista:\n",
    "    maximo = max(maximo, elemento)\n",
    "\n",
    "print(maximo)"
   ]
  },
  {
   "cell_type": "markdown",
   "metadata": {},
   "source": [
    "**b) Media**"
   ]
  },
  {
   "cell_type": "code",
   "execution_count": 106,
   "metadata": {},
   "outputs": [
    {
     "name": "stdout",
     "output_type": "stream",
     "text": [
      "47.89\n"
     ]
    }
   ],
   "source": [
    "# Tiempo O(n)\n",
    "# Tamaño O(n + 1)\n",
    "\n",
    "media = 0\n",
    "cantidad = 0\n",
    "for elemento in lista:\n",
    "    media += elemento\n",
    "    cantidad += 1\n",
    "    \n",
    "media = media/cantidad\n",
    "print(media)"
   ]
  },
  {
   "cell_type": "markdown",
   "metadata": {},
   "source": [
    "**c) Moda**"
   ]
  },
  {
   "cell_type": "code",
   "execution_count": 107,
   "metadata": {},
   "outputs": [
    {
     "name": "stdout",
     "output_type": "stream",
     "text": [
      "91\n",
      "5\n"
     ]
    }
   ],
   "source": [
    "# Tiempo O(n) //Asumiendo que insert y get del dict es O(1)\n",
    "# Tamaño O(n + n)\n",
    "\n",
    "apariciones = {}\n",
    "moda = vector[0]\n",
    "for elemento in vector:\n",
    "    apariciones[elemento] = apariciones.get(elemento, 0) + 1\n",
    "    moda = moda if apariciones[moda] > apariciones[elemento] else elemento\n",
    "\n",
    "print(moda)\n",
    "print(apariciones[moda])\n"
   ]
  },
  {
   "cell_type": "markdown",
   "metadata": {},
   "source": [
    "**d) Mediana**"
   ]
  },
  {
   "cell_type": "code",
   "execution_count": 78,
   "metadata": {},
   "outputs": [
    {
     "name": "stdout",
     "output_type": "stream",
     "text": [
      "47.0\n"
     ]
    }
   ],
   "source": [
    "# Verificar si hay otro metodo\n",
    "# Tiempo O(n log(n))\n",
    "# Tamaño O(n + n)\n",
    "ordenado = sorted(vector)\n",
    "\n",
    "\n",
    "if len(vector) % 2 == 1:\n",
    "    print (ordenado[len(vector) // 2])\n",
    "else:\n",
    "    print((ordenado[len(vector) // 2] + ordenado[len(vector) // 2 + 1 ]) / 2)"
   ]
  },
  {
   "cell_type": "markdown",
   "metadata": {},
   "source": [
    "**e) Desviación estándar**"
   ]
  },
  {
   "cell_type": "code",
   "execution_count": 79,
   "metadata": {},
   "outputs": [
    {
     "name": "stdout",
     "output_type": "stream",
     "text": [
      "29.880058567546353\n"
     ]
    }
   ],
   "source": [
    "# media Calculada en un ejercicio anterior en O(n)\n",
    "varianza = 0\n",
    "for elemento in vector:\n",
    "    varianza += (media - elemento)**2\n",
    "\n",
    "varianza = varianza/cantidad\n",
    "desvio = sqrt(varianza)\n",
    "print (desvio)"
   ]
  },
  {
   "cell_type": "markdown",
   "metadata": {},
   "source": [
    "**f) Permutaciones del conjunto**"
   ]
  },
  {
   "cell_type": "code",
   "execution_count": 104,
   "metadata": {},
   "outputs": [
    {
     "name": "stdout",
     "output_type": "stream",
     "text": [
      "71536470161623787274162004373160271741109473427183973222444335171360783120448571241917942513528949352091429656078068377190400000000000000000000000\n"
     ]
    }
   ],
   "source": [
    "# Verificar si hay otro metdo\n",
    "# Encontrar la cantidad de apariciones de cada uno es O(n)\n",
    "# Tiempo Costo factorial es O(k) => Total e O(Sumatoria(apariciones) + n) + (numeros distintos)) => Peor caso O(n + n + n)= O(n) => Mejor caso O(n) => Caso promedio O(n) \n",
    "#                                       apariciones!             cant!      reduce\n",
    "# Tamaño O(n + numeros_distintos)\n",
    "# Sumatoria(apariciones ) = n\n",
    "permutaciones = factorial(cantidad)//reduce(lambda x,y: x*y, [factorial(aparicion) for aparicion in apariciones.values()])\n",
    "\n",
    "print(permutaciones)"
   ]
  },
  {
   "cell_type": "markdown",
   "metadata": {},
   "source": [
    "**g) Variaciones del conjunto tomados de r elementos (r«n)**"
   ]
  },
  {
   "cell_type": "markdown",
   "metadata": {},
   "source": [
    "**h) Variaciones con repetición del conjunto de r elementos (r«n)**"
   ]
  },
  {
   "cell_type": "markdown",
   "metadata": {},
   "source": [
    "## Los valores están ordenados en un vector de mayor a menor"
   ]
  },
  {
   "cell_type": "code",
   "execution_count": 82,
   "metadata": {},
   "outputs": [
    {
     "name": "stdout",
     "output_type": "stream",
     "text": [
      "[99, 98, 97, 96, 96, 94, 94, 93, 91, 91, 91, 91, 91, 90, 90, 89, 88, 88, 83, 82, 81, 80, 79, 76, 74, 74, 72, 68, 68, 68, 66, 64, 62, 60, 59, 59, 58, 58, 58, 55, 55, 54, 54, 52, 52, 51, 51, 50, 48, 46, 44, 44, 44, 43, 42, 39, 38, 37, 37, 36, 35, 34, 33, 33, 32, 32, 30, 28, 27, 27, 26, 26, 25, 23, 23, 22, 20, 20, 19, 18, 17, 15, 15, 13, 13, 12, 12, 11, 9, 8, 8, 8, 8, 7, 5, 3, 2, 1, 1, 0]\n"
     ]
    }
   ],
   "source": [
    "vector = sorted(vector, reverse=True)\n",
    "print(vector)"
   ]
  },
  {
   "cell_type": "markdown",
   "metadata": {},
   "source": [
    "**a) Máximo**"
   ]
  },
  {
   "cell_type": "code",
   "execution_count": 16,
   "metadata": {},
   "outputs": [],
   "source": [
    "# Tiempo O(1) Mejor, peor, promedio\n",
    "# Tamaño O(n + 1) Mejor, peor, promedio\n",
    "\n",
    "maximo = vector[0]"
   ]
  },
  {
   "cell_type": "markdown",
   "metadata": {},
   "source": [
    "**b) Media** "
   ]
  },
  {
   "cell_type": "code",
   "execution_count": 84,
   "metadata": {},
   "outputs": [
    {
     "name": "stdout",
     "output_type": "stream",
     "text": [
      "47.89\n"
     ]
    }
   ],
   "source": [
    "# Tiempo O(n) Mejor, peor, promedio\n",
    "# Tamaño O(n + 1) Mejor, peor, promedio\n",
    "media = 0\n",
    "cantidad = 0\n",
    "for elemento in vector:\n",
    "    media += elemento\n",
    "    cantidad += 1\n",
    "    \n",
    "media = media/cantidad\n",
    "print(media)"
   ]
  },
  {
   "cell_type": "markdown",
   "metadata": {},
   "source": [
    "**c) Moda**"
   ]
  },
  {
   "cell_type": "code",
   "execution_count": 101,
   "metadata": {},
   "outputs": [
    {
     "name": "stdout",
     "output_type": "stream",
     "text": [
      "91\n",
      "5\n"
     ]
    }
   ],
   "source": [
    "\n",
    "# Tamaño O(n + 1) mejor, peor, promedio\n",
    "# Tiempo O(n) mejor, peor, promedio\n",
    "\n",
    "apariciones_actual = 0\n",
    "elemento_previo = None\n",
    "maxima_aparicion = 0\n",
    "moda = None\n",
    "for elemento in vector:\n",
    "    if elemento != elemento_previo:\n",
    "        moda = elemento_previo if maxima_aparicion < apariciones_actual else moda\n",
    "        maxima_aparicion = apariciones_actual if maxima_aparicion < apariciones_actual else maxima_aparicion\n",
    "        elemento_previo = elemento\n",
    "        apariciones_actual = 0\n",
    "    apariciones_actual += 1\n",
    "maxima_aparicion = apariciones_actual if maxima_aparicion < apariciones_actual else maxima_aparicion\n",
    "moda = elemento_previo if maxima_aparicion < apariciones_actual else moda\n",
    "print(moda)\n",
    "print(maxima_aparicion)\n"
   ]
  },
  {
   "cell_type": "markdown",
   "metadata": {},
   "source": [
    "**d) Mediana**"
   ]
  },
  {
   "cell_type": "code",
   "execution_count": 102,
   "metadata": {},
   "outputs": [
    {
     "name": "stdout",
     "output_type": "stream",
     "text": [
      "47.0\n"
     ]
    }
   ],
   "source": [
    "# Tiempo O(1) mejor, peor, promedio (asumo len(vector) e O(1))\n",
    "# Tamaño O(n + 1) mejor, peor, promedio\n",
    "if len(vector) % 2 == 1:\n",
    "    print (ordenado[len(vector) // 2])\n",
    "else:\n",
    "    print((ordenado[len(vector) // 2] + ordenado[len(vector) // 2 + 1 ]) / 2)"
   ]
  },
  {
   "cell_type": "markdown",
   "metadata": {},
   "source": [
    "**e) Desviación estándar**"
   ]
  },
  {
   "cell_type": "code",
   "execution_count": 103,
   "metadata": {},
   "outputs": [
    {
     "name": "stdout",
     "output_type": "stream",
     "text": [
      "29.880058567546353\n"
     ]
    }
   ],
   "source": [
    "# media Calculada en un ejercicio anterior en O(n)\n",
    "# Tiempo O(n) mejor, peor, promedio (asumo len(vector) e O(1))\n",
    "# Tamaño O(1) mejor, peor, promedio\n",
    "varianza = 0\n",
    "for elemento in vector:\n",
    "    varianza += (media - elemento)**2\n",
    "\n",
    "varianza = varianza/cantidad\n",
    "desvio = sqrt(varianza)\n",
    "print (desvio)"
   ]
  },
  {
   "cell_type": "markdown",
   "metadata": {},
   "source": [
    "**f) Permutaciones del conjunto**"
   ]
  },
  {
   "cell_type": "markdown",
   "metadata": {},
   "source": [
    "**g) Variaciones del conjunto tomados de r elementos (r«n)**"
   ]
  },
  {
   "cell_type": "markdown",
   "metadata": {},
   "source": [
    "**h) Variaciones con repetición del conjunto de r elementos (r«n)**"
   ]
  },
  {
   "cell_type": "markdown",
   "metadata": {},
   "source": [
    "## Los valores están precargados en un estructura sugerida por el grupo."
   ]
  },
  {
   "cell_type": "markdown",
   "metadata": {},
   "source": [
    "**a) Máximo**"
   ]
  },
  {
   "cell_type": "markdown",
   "metadata": {},
   "source": [
    "**b) Media** "
   ]
  },
  {
   "cell_type": "markdown",
   "metadata": {},
   "source": [
    "**c) Moda**"
   ]
  },
  {
   "cell_type": "markdown",
   "metadata": {},
   "source": [
    "**d) Mediana**"
   ]
  },
  {
   "cell_type": "markdown",
   "metadata": {},
   "source": [
    "**e) Desviación estándar**"
   ]
  },
  {
   "cell_type": "markdown",
   "metadata": {},
   "source": [
    "**f) Permutaciones del conjunto**"
   ]
  },
  {
   "cell_type": "markdown",
   "metadata": {},
   "source": [
    "**g) Variaciones del conjunto tomados de r elementos (r«n)**"
   ]
  },
  {
   "cell_type": "markdown",
   "metadata": {},
   "source": [
    "**h) Variaciones con repetición del conjunto de r elementos (r«n)**"
   ]
  }
 ],
 "metadata": {
  "kernelspec": {
   "display_name": "Python 3",
   "language": "python",
   "name": "python3"
  },
  "language_info": {
   "codemirror_mode": {
    "name": "ipython",
    "version": 3
   },
   "file_extension": ".py",
   "mimetype": "text/x-python",
   "name": "python",
   "nbconvert_exporter": "python",
   "pygments_lexer": "ipython3",
   "version": "3.6.6"
  }
 },
 "nbformat": 4,
 "nbformat_minor": 2
}
