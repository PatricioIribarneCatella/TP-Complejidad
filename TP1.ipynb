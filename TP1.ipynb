{
 "cells": [
  {
   "cell_type": "code",
   "execution_count": 64,
   "metadata": {},
   "outputs": [],
   "source": [
    "import random\n",
    "from llist import sllist\n",
    "from math import sqrt, factorial\n",
    "from functools import reduce"
   ]
  },
  {
   "cell_type": "markdown",
   "metadata": {},
   "source": [
    "# Parte 2: Funciones matemáticas / estadísticas\n",
    "\n",
    "\n",
    "Dados un conjunto de n números, las siguientes funciones matemáticas / estadísticas:\n",
    "\n",
    "- Máximo\n",
    "- Media\n",
    "- Moda\n",
    "- Mediana\n",
    "- Desviación estándar\n",
    "- Permutaciones del conjunto\n",
    "- Variaciones del conjunto tomados de r elementos (r«n)\n",
    "- Variaciones con repetición del conjunto de r elementos (r«n)\n",
    "\n",
    "Y los diferentes escenarios propuestos:\n",
    "\n",
    "- Los valores están cargados en un vector\n",
    "- Los valores están cargados en una lista\n",
    "- Los valores están ordenados en un vector de mayor a menor\n",
    "- Los valores están precargados en un estructura sugerida por el grupo.\n",
    "\n",
    "Resuelva:\n",
    "\n",
    "1. Proponga algoritmos para cada una de las resoluciones\n",
    "2. Analice la complejidad algorítmica (tiempo y espacio) de cada caso teniendo en cuenta el mejor, peor y caso promedio.\n",
    "3. Compare entre cada función su complejidad gráficamente.\n",
    "4. Programe los algoritmos.\n"
   ]
  },
  {
   "cell_type": "markdown",
   "metadata": {},
   "source": [
    "**Nota: Las python `list` estan implementadas internamente como `array`.**  \n",
    "Fuente: https://wiki.python.org/moin/TimeComplexity"
   ]
  },
  {
   "cell_type": "markdown",
   "metadata": {},
   "source": [
    "## Los valores están cargados en un vector"
   ]
  },
  {
   "cell_type": "code",
   "execution_count": 39,
   "metadata": {},
   "outputs": [],
   "source": [
    "vector = [random.randint(0,99) for i in range(100)]"
   ]
  },
  {
   "cell_type": "markdown",
   "metadata": {},
   "source": [
    "**a) Máximo**"
   ]
  },
  {
   "cell_type": "code",
   "execution_count": 41,
   "metadata": {},
   "outputs": [
    {
     "name": "stdout",
     "output_type": "stream",
     "text": [
      "99\n"
     ]
    }
   ],
   "source": [
    "maximo = vector[0]\n",
    "for elemento in vector:\n",
    "    maximo = max(maximo, elemento)\n",
    "    \n",
    "print(maximo)"
   ]
  },
  {
   "cell_type": "markdown",
   "metadata": {},
   "source": [
    "**b) Media**"
   ]
  },
  {
   "cell_type": "code",
   "execution_count": 48,
   "metadata": {},
   "outputs": [],
   "source": [
    "media = 0\n",
    "cantidad = 0\n",
    "for elemento in vector:\n",
    "    media += elemento\n",
    "    cantidad += 1\n",
    "    \n",
    "media = media/cantidad"
   ]
  },
  {
   "cell_type": "markdown",
   "metadata": {},
   "source": [
    "**c) Moda**"
   ]
  },
  {
   "cell_type": "code",
   "execution_count": 47,
   "metadata": {},
   "outputs": [],
   "source": [
    "apariciones = {}\n",
    "moda = vector[0]\n",
    "for elemento in vector:\n",
    "    apariciones[elemento] = apariciones.get(elemento, 0) + 1\n",
    "    moda = moda if apariciones[moda] > apariciones[elemento] else elemento"
   ]
  },
  {
   "cell_type": "markdown",
   "metadata": {},
   "source": [
    "**d) Mediana**"
   ]
  },
  {
   "cell_type": "code",
   "execution_count": 53,
   "metadata": {},
   "outputs": [
    {
     "data": {
      "text/plain": [
       "44"
      ]
     },
     "execution_count": 53,
     "metadata": {},
     "output_type": "execute_result"
    }
   ],
   "source": [
    "# Verificar si hay otro metodo\n",
    "ordenado = sorted(vector)\n",
    "ordenado[49]"
   ]
  },
  {
   "cell_type": "markdown",
   "metadata": {},
   "source": [
    "**e) Desviación estándar**"
   ]
  },
  {
   "cell_type": "code",
   "execution_count": 62,
   "metadata": {},
   "outputs": [],
   "source": [
    "# media Calculada en un ejercicio anterior en O(n)\n",
    "varianza = 0\n",
    "for elemento in vector:\n",
    "    varianza += (media - elemento)**2\n",
    "\n",
    "varianza = varianza/cantidad\n",
    "desvio = sqrt(varianza)"
   ]
  },
  {
   "cell_type": "markdown",
   "metadata": {},
   "source": [
    "**f) Permutaciones del conjunto**"
   ]
  },
  {
   "cell_type": "code",
   "execution_count": 80,
   "metadata": {},
   "outputs": [],
   "source": [
    "# Verificar si hay otro metdo\n",
    "# Encontrar la cantidad de apariciones de cada uno es O(n)\n",
    "# Definir costo de factorial\n",
    "\n",
    "permutaciones = factorial(cantidad)/reduce(lambda x,y: x*y, [factorial(aparicion) for aparicion in apariciones.values()])"
   ]
  },
  {
   "cell_type": "markdown",
   "metadata": {},
   "source": [
    "**g) Variaciones del conjunto tomados de r elementos (r«n)**"
   ]
  },
  {
   "cell_type": "markdown",
   "metadata": {},
   "source": [
    "**h) Variaciones con repetición del conjunto de r elementos (r«n)**"
   ]
  },
  {
   "cell_type": "markdown",
   "metadata": {},
   "source": [
    "## Los valores están cargados en una lista"
   ]
  },
  {
   "cell_type": "code",
   "execution_count": 24,
   "metadata": {},
   "outputs": [],
   "source": [
    "lista = sllist(vector)"
   ]
  },
  {
   "cell_type": "markdown",
   "metadata": {},
   "source": [
    "**a) Máximo**"
   ]
  },
  {
   "cell_type": "code",
   "execution_count": 23,
   "metadata": {},
   "outputs": [],
   "source": [
    "maximo = lista.first()\n",
    "for elemento in lista:\n",
    "    maximo = max(maximo, elemento)"
   ]
  },
  {
   "cell_type": "markdown",
   "metadata": {},
   "source": [
    "**b) Media**"
   ]
  },
  {
   "cell_type": "code",
   "execution_count": 33,
   "metadata": {},
   "outputs": [],
   "source": [
    "media = 0\n",
    "cantidad = 0\n",
    "for elemento in lista:\n",
    "    media += elemento\n",
    "    cantidad += 1\n",
    "    \n",
    "media = media/cantidad"
   ]
  },
  {
   "cell_type": "markdown",
   "metadata": {},
   "source": [
    "**c) Moda**"
   ]
  },
  {
   "cell_type": "markdown",
   "metadata": {},
   "source": [
    "**d) Mediana**"
   ]
  },
  {
   "cell_type": "markdown",
   "metadata": {},
   "source": [
    "**e) Desviación estándar**"
   ]
  },
  {
   "cell_type": "markdown",
   "metadata": {},
   "source": [
    "**f) Permutaciones del conjunto**"
   ]
  },
  {
   "cell_type": "markdown",
   "metadata": {},
   "source": [
    "**g) Variaciones del conjunto tomados de r elementos (r«n)**"
   ]
  },
  {
   "cell_type": "markdown",
   "metadata": {},
   "source": [
    "**h) Variaciones con repetición del conjunto de r elementos (r«n)**"
   ]
  },
  {
   "cell_type": "markdown",
   "metadata": {},
   "source": [
    "## Los valores están ordenados en un vector de mayor a menor"
   ]
  },
  {
   "cell_type": "code",
   "execution_count": 25,
   "metadata": {},
   "outputs": [],
   "source": [
    "vector = list(range(99,-1,-1))"
   ]
  },
  {
   "cell_type": "markdown",
   "metadata": {},
   "source": [
    "**a) Máximo**"
   ]
  },
  {
   "cell_type": "code",
   "execution_count": 20,
   "metadata": {},
   "outputs": [],
   "source": [
    "maximo = vector[0]"
   ]
  },
  {
   "cell_type": "markdown",
   "metadata": {},
   "source": [
    "**b) Media** "
   ]
  },
  {
   "cell_type": "code",
   "execution_count": 34,
   "metadata": {},
   "outputs": [],
   "source": [
    "media = 0\n",
    "cantidad = 0\n",
    "for elemento in vector:\n",
    "    media += elemento\n",
    "    cantidad += 1\n",
    "    \n",
    "media = media/cantidad"
   ]
  },
  {
   "cell_type": "markdown",
   "metadata": {},
   "source": [
    "**c) Moda**"
   ]
  },
  {
   "cell_type": "markdown",
   "metadata": {},
   "source": [
    "**d) Mediana**"
   ]
  },
  {
   "cell_type": "markdown",
   "metadata": {},
   "source": [
    "**e) Desviación estándar**"
   ]
  },
  {
   "cell_type": "markdown",
   "metadata": {},
   "source": [
    "**f) Permutaciones del conjunto**"
   ]
  },
  {
   "cell_type": "markdown",
   "metadata": {},
   "source": [
    "**g) Variaciones del conjunto tomados de r elementos (r«n)**"
   ]
  },
  {
   "cell_type": "markdown",
   "metadata": {},
   "source": [
    "**h) Variaciones con repetición del conjunto de r elementos (r«n)**"
   ]
  },
  {
   "cell_type": "markdown",
   "metadata": {},
   "source": [
    "## Los valores están precargados en un estructura sugerida por el grupo."
   ]
  },
  {
   "cell_type": "markdown",
   "metadata": {},
   "source": [
    "**a) Máximo**"
   ]
  },
  {
   "cell_type": "markdown",
   "metadata": {},
   "source": [
    "**b) Media** "
   ]
  },
  {
   "cell_type": "markdown",
   "metadata": {},
   "source": [
    "**c) Moda**"
   ]
  },
  {
   "cell_type": "markdown",
   "metadata": {},
   "source": [
    "**d) Mediana**"
   ]
  },
  {
   "cell_type": "markdown",
   "metadata": {},
   "source": [
    "**e) Desviación estándar**"
   ]
  },
  {
   "cell_type": "markdown",
   "metadata": {},
   "source": [
    "**f) Permutaciones del conjunto**"
   ]
  },
  {
   "cell_type": "markdown",
   "metadata": {},
   "source": [
    "**g) Variaciones del conjunto tomados de r elementos (r«n)**"
   ]
  },
  {
   "cell_type": "markdown",
   "metadata": {},
   "source": [
    "**h) Variaciones con repetición del conjunto de r elementos (r«n)**"
   ]
  }
 ],
 "metadata": {
  "kernelspec": {
   "display_name": "Python 3",
   "language": "python",
   "name": "python3"
  },
  "language_info": {
   "codemirror_mode": {
    "name": "ipython",
    "version": 3
   },
   "file_extension": ".py",
   "mimetype": "text/x-python",
   "name": "python",
   "nbconvert_exporter": "python",
   "pygments_lexer": "ipython3",
   "version": "3.7.2"
  }
 },
 "nbformat": 4,
 "nbformat_minor": 2
}
