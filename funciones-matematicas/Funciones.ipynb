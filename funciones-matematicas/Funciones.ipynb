{
 "cells": [
  {
   "cell_type": "code",
   "execution_count": 33,
   "metadata": {},
   "outputs": [],
   "source": [
    "import random\n",
    "from llist import sllist\n",
    "from math import sqrt, factorial\n",
    "from functools import reduce"
   ]
  },
  {
   "cell_type": "markdown",
   "metadata": {},
   "source": [
    "# Parte 2: Funciones matemáticas / estadísticas\n",
    "\n",
    "\n",
    "Dados un conjunto de n números, las siguientes funciones matemáticas / estadísticas:\n",
    "\n",
    "- Máximo\n",
    "- Media\n",
    "- Moda\n",
    "- Mediana\n",
    "- Desviación estándar\n",
    "- Permutaciones del conjunto\n",
    "- Variaciones del conjunto tomados de r elementos (r«n)\n",
    "- Variaciones con repetición del conjunto de r elementos (r«n)\n",
    "\n",
    "Y los diferentes escenarios propuestos:\n",
    "\n",
    "- Los valores están cargados en un vector\n",
    "- Los valores están cargados en una lista\n",
    "- Los valores están ordenados en un vector de mayor a menor\n",
    "- Los valores están precargados en un estructura sugerida por el grupo.\n",
    "\n",
    "Resuelva:\n",
    "\n",
    "1. Proponga algoritmos para cada una de las resoluciones\n",
    "2. Analice la complejidad algorítmica (tiempo y espacio) de cada caso teniendo en cuenta el mejor, peor y caso promedio.\n",
    "3. Compare entre cada función su complejidad gráficamente.\n",
    "4. Programe los algoritmos.\n"
   ]
  },
  {
   "cell_type": "markdown",
   "metadata": {},
   "source": [
    "**Nota: Las python `list` estan implementadas internamente como `array`.**  \n",
    "Fuente: https://wiki.python.org/moin/TimeComplexity"
   ]
  },
  {
   "cell_type": "markdown",
   "metadata": {},
   "source": [
    "## Los valores están cargados en un vector"
   ]
  },
  {
   "cell_type": "code",
   "execution_count": 34,
   "metadata": {},
   "outputs": [
    {
     "name": "stdout",
     "output_type": "stream",
     "text": [
      "[11, 18, 53, 61, 60, 15, 12, 69, 80, 48, 34, 24, 15, 74, 71, 16, 25, 82, 38, 15, 52, 67, 33, 45, 44, 34, 43, 60, 91, 34, 98, 76, 7, 80, 67, 54, 28, 42, 8, 29, 89, 92, 3, 38, 80, 7, 96, 46, 51, 67, 55, 89, 35, 14, 34, 59, 34, 82, 11, 83, 49, 97, 4, 86, 48, 82, 1, 89, 90, 72, 27, 72, 10, 62, 36, 0, 9, 49, 79, 96, 56, 63, 1, 34, 88, 22, 37, 42, 89, 1, 31, 20, 54, 81, 77, 64, 13, 1, 70, 9]\n"
     ]
    }
   ],
   "source": [
    "vector = [random.randint(0,99) for i in range(100)]\n",
    "print(vector)"
   ]
  },
  {
   "cell_type": "markdown",
   "metadata": {},
   "source": [
    "**a) Máximo**"
   ]
  },
  {
   "cell_type": "code",
   "execution_count": 35,
   "metadata": {},
   "outputs": [
    {
     "name": "stdout",
     "output_type": "stream",
     "text": [
      "98\n"
     ]
    }
   ],
   "source": [
    "# Tiempo O(n)\n",
    "# Tamaño O(n + 1) -> O(n)\n",
    "\n",
    "maximo = vector[0]\n",
    "for elemento in vector:\n",
    "    maximo = max(maximo, elemento)\n",
    "    \n",
    "print(maximo)"
   ]
  },
  {
   "cell_type": "markdown",
   "metadata": {},
   "source": [
    "**b) Media**"
   ]
  },
  {
   "cell_type": "code",
   "execution_count": 36,
   "metadata": {},
   "outputs": [
    {
     "name": "stdout",
     "output_type": "stream",
     "text": [
      "47.89\n"
     ]
    }
   ],
   "source": [
    "# Tiempo O(n)\n",
    "# Tamaño O(n + 1) -> O(n)\n",
    "\n",
    "media = 0\n",
    "cantidad = 0\n",
    "for elemento in vector:\n",
    "    media += elemento\n",
    "    cantidad += 1\n",
    "    \n",
    "media = media/cantidad\n",
    "\n",
    "print(media)"
   ]
  },
  {
   "cell_type": "markdown",
   "metadata": {},
   "source": [
    "**c) Moda**"
   ]
  },
  {
   "cell_type": "code",
   "execution_count": 37,
   "metadata": {},
   "outputs": [
    {
     "name": "stdout",
     "output_type": "stream",
     "text": [
      "34\n",
      "{11: 2, 18: 1, 53: 1, 61: 1, 60: 2, 15: 3, 12: 1, 69: 1, 80: 3, 48: 2, 34: 6, 24: 1, 74: 1, 71: 1, 16: 1, 25: 1, 82: 3, 38: 2, 52: 1, 67: 3, 33: 1, 45: 1, 44: 1, 43: 1, 91: 1, 98: 1, 76: 1, 7: 2, 54: 2, 28: 1, 42: 2, 8: 1, 29: 1, 89: 4, 92: 1, 3: 1, 96: 2, 46: 1, 51: 1, 55: 1, 35: 1, 14: 1, 59: 1, 83: 1, 49: 2, 97: 1, 4: 1, 86: 1, 1: 4, 90: 1, 72: 2, 27: 1, 10: 1, 62: 1, 36: 1, 0: 1, 9: 2, 79: 1, 56: 1, 63: 1, 88: 1, 22: 1, 37: 1, 31: 1, 20: 1, 81: 1, 77: 1, 64: 1, 13: 1, 70: 1}\n",
      "6\n"
     ]
    }
   ],
   "source": [
    "# Tiempo O(n) //Asumiendo que insert y get del dict es O(1)\n",
    "# Tamaño O(n + n) -> O(n)\n",
    "\n",
    "apariciones = {}\n",
    "moda = vector[0]\n",
    "for elemento in vector:\n",
    "    apariciones[elemento] = apariciones.get(elemento, 0) + 1\n",
    "    moda = moda if apariciones[moda] > apariciones[elemento] else elemento\n",
    "\n",
    "print(moda)\n",
    "print(apariciones)\n",
    "print(apariciones[moda])"
   ]
  },
  {
   "cell_type": "markdown",
   "metadata": {},
   "source": [
    "**d) Mediana**"
   ]
  },
  {
   "cell_type": "code",
   "execution_count": 38,
   "metadata": {},
   "outputs": [
    {
     "name": "stdout",
     "output_type": "stream",
     "text": [
      "48.0\n"
     ]
    }
   ],
   "source": [
    "# Verificar si hay otro metodo\n",
    "# Tiempo O(n log(n))\n",
    "# Tamaño O(n + n) -> O(n)\n",
    "\n",
    "ordenado = sorted(vector)\n",
    "\n",
    "if len(vector) % 2 == 1:\n",
    "    print(ordenado[len(vector) // 2])\n",
    "else:\n",
    "    print((ordenado[len(vector) // 2 - 1] + ordenado[len(vector) // 2]) / 2)"
   ]
  },
  {
   "cell_type": "markdown",
   "metadata": {},
   "source": [
    "**e) Desviación estándar**"
   ]
  },
  {
   "cell_type": "code",
   "execution_count": 39,
   "metadata": {},
   "outputs": [
    {
     "name": "stdout",
     "output_type": "stream",
     "text": [
      "29.06781553539928\n"
     ]
    }
   ],
   "source": [
    "# media Calculada en un ejercicio anterior en O(n)\n",
    "# Tiempo O(n)\n",
    "# Tamaño O(n + 1)-> O(n)\n",
    "\n",
    "varianza = 0\n",
    "for elemento in vector:\n",
    "    varianza += (media - elemento)**2\n",
    "\n",
    "varianza = varianza/cantidad\n",
    "desvio = sqrt(varianza)\n",
    "print (desvio)"
   ]
  },
  {
   "cell_type": "markdown",
   "metadata": {},
   "source": [
    "**f) Permutaciones del conjunto**"
   ]
  },
  {
   "cell_type": "code",
   "execution_count": 40,
   "metadata": {},
   "outputs": [
    {
     "name": "stdout",
     "output_type": "stream",
     "text": [
      "84783964635998562695303116294115877619092709247032857152526619462353520735346454805236080016034310343219472184981414372966400000000000000000000000\n"
     ]
    }
   ],
   "source": [
    "# Verificar si hay otro metdo\n",
    "# Encontrar la cantidad de apariciones de cada uno es O(n)\n",
    "# Tiempo Costo factorial es O(k) => Total: O(Sumatoria(apariciones) + n) + (numeros distintos)) => Peor caso O(n + n + n)= O(n) => Mejor caso O(n) => Caso promedio O(n) \n",
    "#                                       apariciones!             cant!      reduce\n",
    "# Tamaño O(n + numeros_distintos)\n",
    "# Sumatoria(apariciones) = n\n",
    "\n",
    "permutaciones = factorial(cantidad)//reduce(lambda x,y: x*y, [factorial(aparicion) \n",
    "                                                                  for aparicion in apariciones.values()])\n",
    "\n",
    "print(permutaciones)"
   ]
  },
  {
   "cell_type": "markdown",
   "metadata": {},
   "source": [
    "**g) Variaciones del conjunto tomados de r elementos (r«n)**"
   ]
  },
  {
   "cell_type": "code",
   "execution_count": 41,
   "metadata": {},
   "outputs": [
    {
     "name": "stdout",
     "output_type": "stream",
     "text": [
      "[0, 1, 3, 4, 7, 8, 9, 10, 11, 12, 13, 14, 15, 16, 18, 20, 22, 24, 25, 27, 28, 29, 31, 33, 34, 35, 36, 37, 38, 42, 43, 44, 45, 46, 48, 49, 51, 52, 53, 54, 55, 56, 59, 60, 61, 62, 63, 64, 67, 69, 70, 71, 72, 74, 76, 77, 79, 80, 81, 82, 83, 86, 88, 89, 90, 91, 92, 96, 97, 98]\n",
      "4830\n"
     ]
    }
   ],
   "source": [
    "# Variaciones de 'n' elementos tomados de a 'r'\n",
    "# v = n!/(n-r)!\n",
    "# sin repetición -> primero hay que filtrar los repetidos\n",
    "# O(n) -> filter(vector) + O(1) -> calcular número\n",
    "\n",
    "vector_filt = list(set(vector))\n",
    "print(vector_filt)\n",
    "\n",
    "r = 2 # tomados de a dos elementos, por ejemplo\n",
    "variaciones = factorial(len(vector_filt)) // factorial(len(vector_filt) - r)\n",
    "print(variaciones)"
   ]
  },
  {
   "cell_type": "markdown",
   "metadata": {},
   "source": [
    "**h) Variaciones con repetición del conjunto de r elementos (r«n)**"
   ]
  },
  {
   "cell_type": "code",
   "execution_count": 42,
   "metadata": {},
   "outputs": [
    {
     "name": "stdout",
     "output_type": "stream",
     "text": [
      "10000\n"
     ]
    }
   ],
   "source": [
    "# Variaciones de 'n' elementos tomados de a 'r'\n",
    "# hay repetición\n",
    "# O(1) -> calcular número\n",
    "\n",
    "r = 2  # tomados de a 2, por ejemplo\n",
    "variaciones_rep = len(vector) ** r\n",
    "print(variaciones_rep)"
   ]
  },
  {
   "cell_type": "markdown",
   "metadata": {},
   "source": [
    "## Los valores están cargados en una lista"
   ]
  },
  {
   "cell_type": "code",
   "execution_count": 43,
   "metadata": {},
   "outputs": [],
   "source": [
    "lista = sllist(vector)"
   ]
  },
  {
   "cell_type": "markdown",
   "metadata": {},
   "source": [
    "**a) Máximo**"
   ]
  },
  {
   "cell_type": "code",
   "execution_count": 44,
   "metadata": {},
   "outputs": [
    {
     "name": "stdout",
     "output_type": "stream",
     "text": [
      "98\n"
     ]
    }
   ],
   "source": [
    "# Tiempo O(n)\n",
    "# Tamaño O(n + 1) -> O(n)\n",
    "\n",
    "maximo = lista.first()\n",
    "for elemento in lista:\n",
    "    maximo = max(maximo, elemento)\n",
    "\n",
    "print(maximo)"
   ]
  },
  {
   "cell_type": "markdown",
   "metadata": {},
   "source": [
    "**b) Media**"
   ]
  },
  {
   "cell_type": "code",
   "execution_count": 45,
   "metadata": {},
   "outputs": [
    {
     "name": "stdout",
     "output_type": "stream",
     "text": [
      "47.89\n"
     ]
    }
   ],
   "source": [
    "# Tiempo O(n)\n",
    "# Tamaño O(n + 1) -> O(n)\n",
    "\n",
    "media = 0\n",
    "cantidad = 0\n",
    "for elemento in lista:\n",
    "    media += elemento\n",
    "    cantidad += 1\n",
    "    \n",
    "media = media/cantidad\n",
    "print(media)"
   ]
  },
  {
   "cell_type": "markdown",
   "metadata": {},
   "source": [
    "**c) Moda**"
   ]
  },
  {
   "cell_type": "code",
   "execution_count": 46,
   "metadata": {},
   "outputs": [
    {
     "name": "stdout",
     "output_type": "stream",
     "text": [
      "34\n",
      "6\n"
     ]
    }
   ],
   "source": [
    "# Tiempo O(n) //Asumiendo que insert y get del dict es O(1)\n",
    "# Tamaño O(n + n) -> O(n)\n",
    "\n",
    "apariciones = {}\n",
    "moda = lista.first()\n",
    "for elemento in lista:\n",
    "    apariciones[elemento] = apariciones.get(elemento, 0) + 1\n",
    "    moda = moda if apariciones[moda] > apariciones[elemento] else elemento\n",
    "\n",
    "print(moda)\n",
    "print(apariciones[moda])"
   ]
  },
  {
   "cell_type": "markdown",
   "metadata": {},
   "source": [
    "**d) Mediana**"
   ]
  },
  {
   "cell_type": "code",
   "execution_count": 47,
   "metadata": {},
   "outputs": [
    {
     "name": "stdout",
     "output_type": "stream",
     "text": [
      "48.0\n"
     ]
    }
   ],
   "source": [
    "# Verificar si hay otro metodo\n",
    "# Tiempo O(n log(n))\n",
    "# Tamaño O(n + n) -> O(n)\n",
    "#\n",
    "\n",
    "l = sllist(sorted(lista))\n",
    "\n",
    "if l.size % 2 == 1:\n",
    "    # Cantidad impar\n",
    "    for i in range(l.size//2 + 1):\n",
    "        mediana = l.popleft()\n",
    "else:\n",
    "    # Cantidad par\n",
    "    for i in range(l.size//2):\n",
    "        r = l.popleft()\n",
    "    s = l.popleft()\n",
    "    mediana = (r + s) / 2\n",
    "\n",
    "print(mediana)"
   ]
  },
  {
   "cell_type": "markdown",
   "metadata": {},
   "source": [
    "**e) Desviación estándar**"
   ]
  },
  {
   "cell_type": "code",
   "execution_count": 48,
   "metadata": {},
   "outputs": [
    {
     "name": "stdout",
     "output_type": "stream",
     "text": [
      "29.06781553539928\n"
     ]
    }
   ],
   "source": [
    "# media Calculada en un ejercicio anterior en O(n)\n",
    "\n",
    "varianza = 0\n",
    "for elemento in lista:\n",
    "    varianza += (media - elemento)**2\n",
    "\n",
    "varianza = varianza/cantidad\n",
    "desvio = sqrt(varianza)\n",
    "print(desvio)"
   ]
  },
  {
   "cell_type": "markdown",
   "metadata": {},
   "source": [
    "**f) Permutaciones del conjunto**"
   ]
  },
  {
   "cell_type": "code",
   "execution_count": 49,
   "metadata": {},
   "outputs": [
    {
     "name": "stdout",
     "output_type": "stream",
     "text": [
      "84783964635998562695303116294115877619092709247032857152526619462353520735346454805236080016034310343219472184981414372966400000000000000000000000\n"
     ]
    }
   ],
   "source": [
    "# Verificar si hay otro metdo\n",
    "# Encontrar la cantidad de apariciones de cada uno es O(n)\n",
    "# Tiempo Costo factorial es O(k) => Total e O(Sumatoria(apariciones) + n) + (numeros distintos)) => Peor caso O(n + n + n)= O(n) => Mejor caso O(n) => Caso promedio O(n) \n",
    "#                                       apariciones!             cant!      reduce\n",
    "# Tamaño O(n + numeros_distintos)\n",
    "# Sumatoria(apariciones) = n\n",
    "\n",
    "permutaciones = factorial(cantidad)//reduce(lambda x,y: x*y, [factorial(aparicion)\n",
    "                                                                  for aparicion in apariciones.values()])\n",
    "\n",
    "print(permutaciones)"
   ]
  },
  {
   "cell_type": "markdown",
   "metadata": {},
   "source": [
    "**g) Variaciones del conjunto tomados de r elementos (r«n)**"
   ]
  },
  {
   "cell_type": "code",
   "execution_count": 50,
   "metadata": {},
   "outputs": [
    {
     "name": "stdout",
     "output_type": "stream",
     "text": [
      "[0, 1, 3, 4, 7, 8, 9, 10, 11, 12, 13, 14, 15, 16, 18, 20, 22, 24, 25, 27, 28, 29, 31, 33, 34, 35, 36, 37, 38, 42, 43, 44, 45, 46, 48, 49, 51, 52, 53, 54, 55, 56, 59, 60, 61, 62, 63, 64, 67, 69, 70, 71, 72, 74, 76, 77, 79, 80, 81, 82, 83, 86, 88, 89, 90, 91, 92, 96, 97, 98]\n",
      "4830\n"
     ]
    }
   ],
   "source": [
    "# Variaciones de 'n' elementos tomados de a 'r'\n",
    "# v = n!/(n-r)!\n",
    "# sin repetición -> primero hay que filtrar los repetidos\n",
    "# O(n) -> filter(lista) + O(1) -> calcular número\n",
    "\n",
    "lista_filt = list(set(vector))\n",
    "print(lista_filt)\n",
    "\n",
    "r = 2 # tomados de a dos elementos, por ejemplo\n",
    "variaciones = factorial(len(lista_filt)) // factorial(len(lista_filt) - r)\n",
    "print(variaciones)"
   ]
  },
  {
   "cell_type": "markdown",
   "metadata": {},
   "source": [
    "**h) Variaciones con repetición del conjunto de r elementos (r«n)**"
   ]
  },
  {
   "cell_type": "code",
   "execution_count": 51,
   "metadata": {},
   "outputs": [
    {
     "name": "stdout",
     "output_type": "stream",
     "text": [
      "10000\n"
     ]
    }
   ],
   "source": [
    "# Variaciones de 'n' elementos tomados de a 'r'\n",
    "# hay repetición\n",
    "# O(1) -> calcular número\n",
    "\n",
    "r = 2  # tomados de a 2, por ejemplo\n",
    "variaciones_rep = len(lista) ** r\n",
    "print(variaciones_rep)"
   ]
  },
  {
   "cell_type": "markdown",
   "metadata": {},
   "source": [
    "## Los valores están ordenados en un vector de mayor a menor"
   ]
  },
  {
   "cell_type": "code",
   "execution_count": 52,
   "metadata": {},
   "outputs": [
    {
     "name": "stdout",
     "output_type": "stream",
     "text": [
      "[98, 97, 96, 96, 92, 91, 90, 89, 89, 89, 89, 88, 86, 83, 82, 82, 82, 81, 80, 80, 80, 79, 77, 76, 74, 72, 72, 71, 70, 69, 67, 67, 67, 64, 63, 62, 61, 60, 60, 59, 56, 55, 54, 54, 53, 52, 51, 49, 49, 48, 48, 46, 45, 44, 43, 42, 42, 38, 38, 37, 36, 35, 34, 34, 34, 34, 34, 34, 33, 31, 29, 28, 27, 25, 24, 22, 20, 18, 16, 15, 15, 15, 14, 13, 12, 11, 11, 10, 9, 9, 8, 7, 7, 4, 3, 1, 1, 1, 1, 0]\n"
     ]
    }
   ],
   "source": [
    "vector = sorted(vector, reverse=True)\n",
    "print(vector)"
   ]
  },
  {
   "cell_type": "markdown",
   "metadata": {},
   "source": [
    "**a) Máximo**"
   ]
  },
  {
   "cell_type": "code",
   "execution_count": 53,
   "metadata": {},
   "outputs": [],
   "source": [
    "# Tiempo O(1) Mejor, peor, promedio\n",
    "# Tamaño O(n + 1) Mejor, peor, promedio\n",
    "\n",
    "maximo = vector[0]"
   ]
  },
  {
   "cell_type": "markdown",
   "metadata": {},
   "source": [
    "**b) Media** "
   ]
  },
  {
   "cell_type": "code",
   "execution_count": 54,
   "metadata": {},
   "outputs": [
    {
     "name": "stdout",
     "output_type": "stream",
     "text": [
      "47.89\n"
     ]
    }
   ],
   "source": [
    "# Tiempo O(n) Mejor, peor, promedio\n",
    "# Tamaño O(n + 1) Mejor, peor, promedio\n",
    "\n",
    "media = 0\n",
    "cantidad = 0\n",
    "for elemento in vector:\n",
    "    media += elemento\n",
    "    cantidad += 1\n",
    "    \n",
    "media = media/cantidad\n",
    "print(media)"
   ]
  },
  {
   "cell_type": "markdown",
   "metadata": {},
   "source": [
    "**c) Moda**"
   ]
  },
  {
   "cell_type": "code",
   "execution_count": 55,
   "metadata": {},
   "outputs": [
    {
     "name": "stdout",
     "output_type": "stream",
     "text": [
      "34\n",
      "6\n"
     ]
    }
   ],
   "source": [
    "# Tamaño O(n + 1) mejor, peor, promedio\n",
    "# Tiempo O(n) mejor, peor, promedio\n",
    "\n",
    "apariciones_actual = 0\n",
    "elemento_previo = None\n",
    "maxima_aparicion = 0\n",
    "moda = None\n",
    "\n",
    "for elemento in vector:\n",
    "    if elemento != elemento_previo:\n",
    "        moda = elemento_previo if maxima_aparicion < apariciones_actual else moda\n",
    "        maxima_aparicion = apariciones_actual if maxima_aparicion < apariciones_actual else maxima_aparicion\n",
    "        elemento_previo = elemento\n",
    "        apariciones_actual = 0\n",
    "    apariciones_actual += 1\n",
    "\n",
    "maxima_aparicion = apariciones_actual if maxima_aparicion < apariciones_actual else maxima_aparicion\n",
    "moda = elemento_previo if maxima_aparicion < apariciones_actual else moda\n",
    "\n",
    "print(moda)\n",
    "print(maxima_aparicion)"
   ]
  },
  {
   "cell_type": "markdown",
   "metadata": {},
   "source": [
    "**d) Mediana**"
   ]
  },
  {
   "cell_type": "code",
   "execution_count": 56,
   "metadata": {},
   "outputs": [
    {
     "name": "stdout",
     "output_type": "stream",
     "text": [
      "48.0\n"
     ]
    }
   ],
   "source": [
    "# Tiempo O(1) mejor, peor, promedio (asumo len(vector) e O(1))\n",
    "# Tamaño O(n + 1) mejor, peor, promedio\n",
    "\n",
    "if len(vector) % 2 == 1:\n",
    "    print(ordenado[len(vector) // 2])\n",
    "else:\n",
    "    print((ordenado[len(vector) // 2 - 1] + ordenado[len(vector) // 2]) / 2)"
   ]
  },
  {
   "cell_type": "markdown",
   "metadata": {},
   "source": [
    "**e) Desviación estándar**"
   ]
  },
  {
   "cell_type": "code",
   "execution_count": 57,
   "metadata": {},
   "outputs": [
    {
     "name": "stdout",
     "output_type": "stream",
     "text": [
      "29.06781553539928\n"
     ]
    }
   ],
   "source": [
    "# media Calculada en un ejercicio anterior en O(n)\n",
    "# Tiempo O(n) mejor, peor, promedio (asumo len(vector) e O(1))\n",
    "# Tamaño O(1) mejor, peor, promedio\n",
    "\n",
    "varianza = 0\n",
    "for elemento in vector:\n",
    "    varianza += (media - elemento)**2\n",
    "\n",
    "varianza = varianza/cantidad\n",
    "desvio = sqrt(varianza)\n",
    "\n",
    "print(desvio)"
   ]
  },
  {
   "cell_type": "markdown",
   "metadata": {},
   "source": [
    "**f) Permutaciones del conjunto**"
   ]
  },
  {
   "cell_type": "code",
   "execution_count": 58,
   "metadata": {},
   "outputs": [
    {
     "name": "stdout",
     "output_type": "stream",
     "text": [
      "84783964635998562695303116294115877619092709247032857152526619462353520735346454805236080016034310343219472184981414372966400000000000000000000000\n"
     ]
    }
   ],
   "source": [
    "# Verificar si hay otro metdo\n",
    "# Encontrar la cantidad de apariciones de cada uno es O(n)\n",
    "# Tiempo Costo factorial es O(k) => Total e O(Sumatoria(apariciones) + n) + (numeros distintos)) => Peor caso O(n + n + n)= O(n) => Mejor caso O(n) => Caso promedio O(n) \n",
    "#                                       apariciones!             cant!      reduce\n",
    "# Tamaño O(n + numeros_distintos)\n",
    "# Sumatoria(apariciones) = n\n",
    "\n",
    "permutaciones = factorial(cantidad)//reduce(lambda x,y: x*y, [factorial(aparicion)\n",
    "                                                                  for aparicion in apariciones.values()])\n",
    "\n",
    "print(permutaciones)"
   ]
  },
  {
   "cell_type": "markdown",
   "metadata": {},
   "source": [
    "**g) Variaciones del conjunto tomados de r elementos (r«n)**"
   ]
  },
  {
   "cell_type": "code",
   "execution_count": 59,
   "metadata": {},
   "outputs": [
    {
     "name": "stdout",
     "output_type": "stream",
     "text": [
      "4830\n"
     ]
    }
   ],
   "source": [
    "# Variaciones de 'n' elementos tomados de a 'r'\n",
    "# v = n!/(n-r)!\n",
    "# sin repetición -> primero hay que filtrar los repetidos\n",
    "# O(n) -> filter(lista) + O(1) -> calcular número\n",
    "\n",
    "vector_set = [vector[0]]\n",
    "previous_element = vector[0]\n",
    "for element in vector:\n",
    "    if previous_element == element:\n",
    "        continue\n",
    "    vector_set.append(element)\n",
    "    previous_element = element\n",
    "\n",
    "\n",
    "r = 2 # tomados de a dos elementos, por ejemplo\n",
    "variaciones = factorial(len(vector_set)) // factorial(len(vector_set) - r)\n",
    "print(variaciones)"
   ]
  },
  {
   "cell_type": "markdown",
   "metadata": {},
   "source": [
    "**h) Variaciones con repetición del conjunto de r elementos (r«n)**"
   ]
  },
  {
   "cell_type": "code",
   "execution_count": 60,
   "metadata": {},
   "outputs": [
    {
     "name": "stdout",
     "output_type": "stream",
     "text": [
      "10000\n"
     ]
    }
   ],
   "source": [
    "# Variaciones de 'n' elementos tomados de a 'r'\n",
    "# hay repetición\n",
    "# O(1) -> calcular número\n",
    "\n",
    "r = 2  # tomados de a 2, por ejemplo\n",
    "variaciones_rep = len(lista) ** r\n",
    "print(variaciones_rep)"
   ]
  },
  {
   "cell_type": "markdown",
   "metadata": {},
   "source": [
    "## Los valores están precargados en un estructura sugerida por el grupo."
   ]
  },
  {
   "cell_type": "markdown",
   "metadata": {},
   "source": [
    "**a) Máximo**"
   ]
  },
  {
   "cell_type": "code",
   "execution_count": 61,
   "metadata": {},
   "outputs": [
    {
     "name": "stdout",
     "output_type": "stream",
     "text": [
      "98\n"
     ]
    }
   ],
   "source": [
    "# Se puede utilizar un Heap de máximos\n",
    "# Colocar todos los elementos en el Heap es O(n)\n",
    "# Obtener el máximo es O(1)\n",
    "#\n",
    "# El heap implmentado es de mínimos,\n",
    "# para que sea de máximos, se multiplica\n",
    "# cada valor por -1 y se invierte el orden.\n",
    "# Luego, cuando se retiran se lo vuelve a\n",
    "# multiplicar por -1.\n",
    "\n",
    "from heapq import heappop, heappush\n",
    "\n",
    "h = []\n",
    "\n",
    "for v in vector:\n",
    "    heappush(h, -v)\n",
    "    \n",
    "maximo = -heappop(h)\n",
    "\n",
    "print(maximo)"
   ]
  },
  {
   "cell_type": "markdown",
   "metadata": {},
   "source": [
    "**b) Media** "
   ]
  },
  {
   "cell_type": "code",
   "execution_count": 62,
   "metadata": {},
   "outputs": [],
   "source": [
    "# No importa la estructura que se utilice,\n",
    "# se deben recorrer todos los elementos\n",
    "# para poder calcular la media.\n",
    "#\n",
    "# Se puede utilizar cualquiera de las estructuras\n",
    "# previamente mencionadas.\n",
    "#\n",
    "# Siempre será O(n)"
   ]
  },
  {
   "cell_type": "markdown",
   "metadata": {},
   "source": [
    "**c) Moda**"
   ]
  },
  {
   "cell_type": "code",
   "execution_count": 63,
   "metadata": {},
   "outputs": [
    {
     "name": "stdout",
     "output_type": "stream",
     "text": [
      "Moda: 34 con valor: 6\n"
     ]
    }
   ],
   "source": [
    "# Se cargan los valores del\n",
    "# vector en un 'diccionario' y se guardan\n",
    "# como valor un contador que se aumenta\n",
    "# cada vez que se encuentre una nueva aparición\n",
    "# del mismo elemento -> O(n)\n",
    "#\n",
    "# Luego se genera un heap de máximos\n",
    "# con las tuplas (valor, ocurrencias)\n",
    "#   -> O(k*log(k)) con k = cantidad de números\n",
    "#                             diferentes.\n",
    "# \n",
    "# Finalmente se obtine el primer elemento\n",
    "# que es el máximo de ocurrecias -> O(1)\n",
    "#\n",
    "# Espacio: O(k) [k: cantidad de elementos diferentes\n",
    "#    peor caso -> O(n)] + O(n) [vector incial]\n",
    "#  -> resultado: O(n)\n",
    "\n",
    "from heapq import heappop, heappush\n",
    "\n",
    "d = {}\n",
    "\n",
    "for val in vector:\n",
    "    if val not in d:\n",
    "        d[val] = 1\n",
    "    else:\n",
    "        d[val] += 1\n",
    "\n",
    "its = list(d.items())\n",
    "\n",
    "h = []\n",
    "\n",
    "for e in its:\n",
    "    heappush(h, (-e[1], e[0]))\n",
    "    \n",
    "m = heappop(h)\n",
    "\n",
    "moda = m[1]\n",
    "valor = -m[0]\n",
    "\n",
    "print(\"Moda: {} con valor: {}\".format(moda, valor))"
   ]
  },
  {
   "cell_type": "markdown",
   "metadata": {},
   "source": [
    "**d) Mediana**"
   ]
  },
  {
   "cell_type": "code",
   "execution_count": 64,
   "metadata": {},
   "outputs": [],
   "source": [
    "# La mejor opción es utilizar\n",
    "# un vector, ordenarlo y dependiendo\n",
    "# del tamaño hacer:\n",
    "#\n",
    "# Par:\n",
    "#    mediana = media(ordenado[len(v)/2], ordenado[len(v)/2+1])\n",
    "# Impar:\n",
    "#    mediana = ordenado[len(v)/2]\n",
    "#"
   ]
  },
  {
   "cell_type": "markdown",
   "metadata": {},
   "source": [
    "**e) Desviación estándar**"
   ]
  },
  {
   "cell_type": "code",
   "execution_count": 65,
   "metadata": {},
   "outputs": [],
   "source": [
    "# Teniendo calculada la Media,\n",
    "# la desviación estándar, depende de\n",
    "# todos los elementos del vector,\n",
    "# con lo cual, es independiente\n",
    "# de la estructura utilizada.\n",
    "# \n",
    "# Siempre será O(n)"
   ]
  },
  {
   "cell_type": "markdown",
   "metadata": {},
   "source": [
    "**f) Permutaciones del conjunto**"
   ]
  },
  {
   "cell_type": "code",
   "execution_count": 66,
   "metadata": {},
   "outputs": [
    {
     "name": "stdout",
     "output_type": "stream",
     "text": [
      "84783964635998562695303116294115877619092709247032857152526619462353520735346454805236080016034310343219472184981414372966400000000000000000000000\n"
     ]
    }
   ],
   "source": [
    "# Se calculan las ocurrencias\n",
    "# de cada uno de los elementos,\n",
    "# guardándolas en un diccionario.\n",
    "# \n",
    "# Se calculan las permutaciones\n",
    "# como: n!/(p1!*p2!*..*pk!)\n",
    "\n",
    "d = {}\n",
    "\n",
    "for val in vector:\n",
    "    if val not in d:\n",
    "        d[val] = 1\n",
    "    else:\n",
    "        d[val] += 1\n",
    "\n",
    "ocurrencias = map(lambda x: x[1], list(d.items()))\n",
    "\n",
    "apariciones = reduce(lambda x,y: x * y, [factorial(o) for o in ocurrencias])\n",
    "\n",
    "permutaciones = factorial(len(vector))//apariciones\n",
    "\n",
    "print(permutaciones)"
   ]
  },
  {
   "cell_type": "markdown",
   "metadata": {},
   "source": [
    "**g) Variaciones del conjunto tomados de r elementos (r«n)**"
   ]
  },
  {
   "cell_type": "code",
   "execution_count": 67,
   "metadata": {},
   "outputs": [],
   "source": [
    "# Es calcular un número que\n",
    "# depende del tamaño del vector\n",
    "# y de la cantidad de elementos a\n",
    "# tomar: v = n!/(n-r)!"
   ]
  },
  {
   "cell_type": "markdown",
   "metadata": {},
   "source": [
    "**h) Variaciones con repetición del conjunto de r elementos (r«n)**"
   ]
  },
  {
   "cell_type": "code",
   "execution_count": 68,
   "metadata": {},
   "outputs": [],
   "source": [
    "# Es calcular un número\n",
    "# que depende de len(v) y de\n",
    "# la cantidad de elementos a tomar:\n",
    "# v = n**r"
   ]
  }
 ],
 "metadata": {
  "kernelspec": {
   "display_name": "Python 3",
   "language": "python",
   "name": "python3"
  }
 },
 "nbformat": 4,
 "nbformat_minor": 2
}
