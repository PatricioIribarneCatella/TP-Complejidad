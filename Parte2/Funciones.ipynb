{
 "cells": [
  {
   "cell_type": "code",
   "execution_count": 2,
   "metadata": {},
   "outputs": [],
   "source": [
    "import random\n",
    "from llist import sllist\n",
    "from math import sqrt, factorial\n",
    "from functools import reduce"
   ]
  },
  {
   "cell_type": "markdown",
   "metadata": {},
   "source": [
    "# Parte 2: Funciones matemáticas / estadísticas\n",
    "\n",
    "\n",
    "Dados un conjunto de n números, las siguientes funciones matemáticas / estadísticas:\n",
    "\n",
    "- Máximo\n",
    "- Media\n",
    "- Moda\n",
    "- Mediana\n",
    "- Desviación estándar\n",
    "- Permutaciones del conjunto\n",
    "- Variaciones del conjunto tomados de r elementos (r«n)\n",
    "- Variaciones con repetición del conjunto de r elementos (r«n)\n",
    "\n",
    "Y los diferentes escenarios propuestos:\n",
    "\n",
    "- Los valores están cargados en un vector\n",
    "- Los valores están cargados en una lista\n",
    "- Los valores están ordenados en un vector de mayor a menor\n",
    "- Los valores están precargados en un estructura sugerida por el grupo.\n",
    "\n",
    "Resuelva:\n",
    "\n",
    "1. Proponga algoritmos para cada una de las resoluciones\n",
    "2. Analice la complejidad algorítmica (tiempo y espacio) de cada caso teniendo en cuenta el mejor, peor y caso promedio.\n",
    "3. Compare entre cada función su complejidad gráficamente.\n",
    "4. Programe los algoritmos.\n"
   ]
  },
  {
   "cell_type": "markdown",
   "metadata": {},
   "source": [
    "**Nota: Las python `list` estan implementadas internamente como `array`.**  \n",
    "Fuente: https://wiki.python.org/moin/TimeComplexity"
   ]
  },
  {
   "cell_type": "markdown",
   "metadata": {},
   "source": [
    "## Los valores están cargados en un vector"
   ]
  },
  {
   "cell_type": "code",
   "execution_count": 3,
   "metadata": {},
   "outputs": [
    {
     "name": "stdout",
     "output_type": "stream",
     "text": [
      "[40, 73, 60, 78, 16, 62, 1, 31, 69, 33, 50, 26, 48, 33, 37, 86, 65, 61, 1, 53, 98, 96, 80, 21, 2, 66, 48, 20, 42, 52, 54, 72, 69, 22, 27, 28, 35, 36, 74, 74, 38, 89, 77, 9, 73, 9, 96, 98, 66, 21, 44, 50, 0, 2, 0, 25, 37, 79, 70, 8, 11, 32, 56, 89, 39, 50, 27, 78, 83, 57, 50, 48, 79, 90, 82, 69, 19, 61, 4, 14, 33, 86, 24, 69, 62, 98, 29, 50, 15, 86, 63, 26, 18, 26, 5, 40, 58, 22, 62, 75]\n"
     ]
    }
   ],
   "source": [
    "vector = [random.randint(0,99) for i in range(100)]\n",
    "print(vector)"
   ]
  },
  {
   "cell_type": "markdown",
   "metadata": {},
   "source": [
    "**a) Máximo**"
   ]
  },
  {
   "cell_type": "code",
   "execution_count": 68,
   "metadata": {},
   "outputs": [
    {
     "name": "stdout",
     "output_type": "stream",
     "text": [
      "99\n"
     ]
    }
   ],
   "source": [
    "# Tiempo O(n)\n",
    "# Tamaño O(n + 1) -> O(n)\n",
    "\n",
    "maximo = vector[0]\n",
    "for elemento in vector:\n",
    "    maximo = max(maximo, elemento)\n",
    "    \n",
    "print(maximo)"
   ]
  },
  {
   "cell_type": "markdown",
   "metadata": {},
   "source": [
    "**b) Media**"
   ]
  },
  {
   "cell_type": "code",
   "execution_count": 7,
   "metadata": {},
   "outputs": [
    {
     "name": "stdout",
     "output_type": "stream",
     "text": [
      "52.29\n"
     ]
    }
   ],
   "source": [
    "# Tiempo O(n)\n",
    "# Tamaño O(n + 1) -> O(n)\n",
    "\n",
    "media = 0\n",
    "cantidad = 0\n",
    "for elemento in vector:\n",
    "    media += elemento\n",
    "    cantidad += 1\n",
    "    \n",
    "media = media/cantidad\n",
    "\n",
    "print(media)"
   ]
  },
  {
   "cell_type": "markdown",
   "metadata": {},
   "source": [
    "**c) Moda**"
   ]
  },
  {
   "cell_type": "code",
   "execution_count": 4,
   "metadata": {},
   "outputs": [
    {
     "name": "stdout",
     "output_type": "stream",
     "text": [
      "57\n",
      "{94: 2, 60: 3, 10: 2, 4: 1, 14: 2, 6: 2, 21: 3, 20: 1, 85: 1, 55: 3, 57: 4, 31: 4, 78: 1, 40: 2, 25: 3, 97: 2, 7: 1, 68: 1, 81: 2, 37: 2, 32: 3, 77: 1, 42: 2, 66: 1, 34: 1, 92: 2, 33: 1, 70: 1, 64: 1, 83: 1, 72: 2, 75: 1, 80: 2, 74: 1, 95: 1, 54: 2, 99: 2, 61: 1, 96: 1, 71: 1, 17: 1, 67: 1, 63: 1, 88: 1, 84: 2, 16: 2, 5: 1, 13: 1, 45: 1, 79: 1, 52: 2, 26: 1, 93: 1, 1: 2, 69: 1, 2: 1, 27: 1, 76: 2, 82: 1, 9: 1, 59: 1, 53: 1, 86: 1, 62: 1, 98: 1}\n",
      "4\n"
     ]
    }
   ],
   "source": [
    "# Tiempo O(n) //Asumiendo que insert y get del dict es O(1)\n",
    "# Tamaño O(n + n) -> O(n)\n",
    "\n",
    "apariciones = {}\n",
    "moda = vector[0]\n",
    "for elemento in vector:\n",
    "    apariciones[elemento] = apariciones.get(elemento, 0) + 1\n",
    "    moda = moda if apariciones[moda] > apariciones[elemento] else elemento\n",
    "\n",
    "print(moda)\n",
    "print(apariciones)\n",
    "print(apariciones[moda])"
   ]
  },
  {
   "cell_type": "markdown",
   "metadata": {},
   "source": [
    "**d) Mediana**"
   ]
  },
  {
   "cell_type": "code",
   "execution_count": 5,
   "metadata": {},
   "outputs": [
    {
     "name": "stdout",
     "output_type": "stream",
     "text": [
      "57.0\n"
     ]
    }
   ],
   "source": [
    "# Verificar si hay otro metodo\n",
    "# Tiempo O(n log(n))\n",
    "# Tamaño O(n + n) -> O(n)\n",
    "\n",
    "ordenado = sorted(vector)\n",
    "\n",
    "if len(vector) % 2 == 1:\n",
    "    print (ordenado[len(vector) // 2])\n",
    "else:\n",
    "    print((ordenado[len(vector) // 2] + ordenado[len(vector) // 2 + 1 ]) / 2)"
   ]
  },
  {
   "cell_type": "markdown",
   "metadata": {},
   "source": [
    "**e) Desviación estándar**"
   ]
  },
  {
   "cell_type": "code",
   "execution_count": 10,
   "metadata": {},
   "outputs": [
    {
     "name": "stdout",
     "output_type": "stream",
     "text": [
      "29.162405593503426\n"
     ]
    }
   ],
   "source": [
    "# media Calculada en un ejercicio anterior en O(n)\n",
    "# Tiempo O(n)\n",
    "# Tamaño O(n + 1)-> O(n)\n",
    "\n",
    "varianza = 0\n",
    "for elemento in vector:\n",
    "    varianza += (media - elemento)**2\n",
    "\n",
    "varianza = varianza/cantidad\n",
    "desvio = sqrt(varianza)\n",
    "print (desvio)"
   ]
  },
  {
   "cell_type": "markdown",
   "metadata": {},
   "source": [
    "**f) Permutaciones del conjunto**"
   ]
  },
  {
   "cell_type": "code",
   "execution_count": 12,
   "metadata": {},
   "outputs": [
    {
     "name": "stdout",
     "output_type": "stream",
     "text": [
      "39742483423124326263423335762866817633949707459546651790246852872978212844693650689954412507516082973384127586710037987328000000000000000000000000\n"
     ]
    }
   ],
   "source": [
    "# Verificar si hay otro metdo\n",
    "# Encontrar la cantidad de apariciones de cada uno es O(n)\n",
    "# Tiempo Costo factorial es O(k) => Total: O(Sumatoria(apariciones) + n) + (numeros distintos)) => Peor caso O(n + n + n)= O(n) => Mejor caso O(n) => Caso promedio O(n) \n",
    "#                                       apariciones!             cant!      reduce\n",
    "# Tamaño O(n + numeros_distintos)\n",
    "# Sumatoria(apariciones) = n\n",
    "\n",
    "permutaciones = factorial(cantidad)//reduce(lambda x,y: x*y, [factorial(aparicion) \n",
    "                                                                  for aparicion in apariciones.values()])\n",
    "\n",
    "print(permutaciones)"
   ]
  },
  {
   "cell_type": "markdown",
   "metadata": {},
   "source": [
    "**g) Variaciones del conjunto tomados de r elementos (r«n)**"
   ]
  },
  {
   "cell_type": "code",
   "execution_count": 14,
   "metadata": {},
   "outputs": [
    {
     "name": "stdout",
     "output_type": "stream",
     "text": [
      "[1, 2, 4, 5, 6, 7, 9, 10, 13, 14, 16, 17, 20, 21, 25, 26, 27, 31, 32, 33, 34, 37, 40, 42, 45, 52, 53, 54, 55, 57, 59, 60, 61, 62, 63, 64, 66, 67, 68, 69, 70, 71, 72, 74, 75, 76, 77, 78, 79, 80, 81, 82, 83, 84, 85, 86, 88, 92, 93, 94, 95, 96, 97, 98, 99]\n",
      "4160\n"
     ]
    }
   ],
   "source": [
    "# Variaciones de 'n' elementos tomados de a 'r'\n",
    "# v = n!/(n-r)!\n",
    "# sin repetición -> primero hay que filtrar los repetidos\n",
    "# O(n) -> filter(vector) + O(1) -> calcular número\n",
    "\n",
    "vector_filt = list(set(vector))\n",
    "print(vector_filt)\n",
    "\n",
    "r = 2 # tomados de a dos elementos, por ejemplo\n",
    "variaciones = factorial(len(vector_filt)) // factorial(len(vector_filt) - r)\n",
    "print(variaciones)"
   ]
  },
  {
   "cell_type": "markdown",
   "metadata": {},
   "source": [
    "**h) Variaciones con repetición del conjunto de r elementos (r«n)**"
   ]
  },
  {
   "cell_type": "code",
   "execution_count": 15,
   "metadata": {},
   "outputs": [
    {
     "name": "stdout",
     "output_type": "stream",
     "text": [
      "10000\n"
     ]
    }
   ],
   "source": [
    "# Variaciones de 'n' elementos tomados de a 'r'\n",
    "# hay repetición\n",
    "# O(1) -> calcular número\n",
    "\n",
    "r = 2  # tomados de a 2, por ejemplo\n",
    "variaciones_rep = len(vector) ** r\n",
    "print(variaciones_rep)"
   ]
  },
  {
   "cell_type": "markdown",
   "metadata": {},
   "source": [
    "## Los valores están cargados en una lista"
   ]
  },
  {
   "cell_type": "code",
   "execution_count": 74,
   "metadata": {},
   "outputs": [],
   "source": [
    "lista = sllist(vector)"
   ]
  },
  {
   "cell_type": "markdown",
   "metadata": {},
   "source": [
    "**a) Máximo**"
   ]
  },
  {
   "cell_type": "code",
   "execution_count": 109,
   "metadata": {},
   "outputs": [
    {
     "name": "stdout",
     "output_type": "stream",
     "text": [
      "99\n"
     ]
    }
   ],
   "source": [
    "# Tiempo O(n)\n",
    "# Tamaño O(n + 1) -> O(n)\n",
    "\n",
    "maximo = lista.first()\n",
    "for elemento in lista:\n",
    "    maximo = max(maximo, elemento)\n",
    "\n",
    "print(maximo)"
   ]
  },
  {
   "cell_type": "markdown",
   "metadata": {},
   "source": [
    "**b) Media**"
   ]
  },
  {
   "cell_type": "code",
   "execution_count": 106,
   "metadata": {},
   "outputs": [
    {
     "name": "stdout",
     "output_type": "stream",
     "text": [
      "47.89\n"
     ]
    }
   ],
   "source": [
    "# Tiempo O(n)\n",
    "# Tamaño O(n + 1) -> O(n)\n",
    "\n",
    "media = 0\n",
    "cantidad = 0\n",
    "for elemento in lista:\n",
    "    media += elemento\n",
    "    cantidad += 1\n",
    "    \n",
    "media = media/cantidad\n",
    "print(media)"
   ]
  },
  {
   "cell_type": "markdown",
   "metadata": {},
   "source": [
    "**c) Moda**"
   ]
  },
  {
   "cell_type": "code",
   "execution_count": 107,
   "metadata": {},
   "outputs": [
    {
     "name": "stdout",
     "output_type": "stream",
     "text": [
      "91\n",
      "5\n"
     ]
    }
   ],
   "source": [
    "# Tiempo O(n) //Asumiendo que insert y get del dict es O(1)\n",
    "# Tamaño O(n + n) -> O(n)\n",
    "\n",
    "apariciones = {}\n",
    "moda = lista.first()\n",
    "for elemento in lista:\n",
    "    apariciones[elemento] = apariciones.get(elemento, 0) + 1\n",
    "    moda = moda if apariciones[moda] > apariciones[elemento] else elemento\n",
    "\n",
    "print(moda)\n",
    "print(apariciones[moda])"
   ]
  },
  {
   "cell_type": "markdown",
   "metadata": {},
   "source": [
    "**d) Mediana**"
   ]
  },
  {
   "cell_type": "code",
   "execution_count": 78,
   "metadata": {},
   "outputs": [
    {
     "name": "stdout",
     "output_type": "stream",
     "text": [
      "47.0\n"
     ]
    }
   ],
   "source": [
    "# Verificar si hay otro metodo\n",
    "# Tiempo O(n log(n))\n",
    "# Tamaño O(n + n) -> O(n)\n",
    "#\n",
    "# Suponiendo que el resultado de ordenar es un vector\n",
    "\n",
    "ordenado = sorted(lista)\n",
    "\n",
    "if len(lista) % 2 == 1:\n",
    "    print(ordenado[len(lista) // 2])\n",
    "else:\n",
    "    print((ordenado[len(lista) // 2] + ordenado[len(lista) // 2 + 1 ]) / 2)"
   ]
  },
  {
   "cell_type": "markdown",
   "metadata": {},
   "source": [
    "**e) Desviación estándar**"
   ]
  },
  {
   "cell_type": "code",
   "execution_count": 79,
   "metadata": {},
   "outputs": [
    {
     "name": "stdout",
     "output_type": "stream",
     "text": [
      "29.880058567546353\n"
     ]
    }
   ],
   "source": [
    "# media Calculada en un ejercicio anterior en O(n)\n",
    "\n",
    "varianza = 0\n",
    "for elemento in lista:\n",
    "    varianza += (media - elemento)**2\n",
    "\n",
    "varianza = varianza/cantidad\n",
    "desvio = sqrt(varianza)\n",
    "print(desvio)"
   ]
  },
  {
   "cell_type": "markdown",
   "metadata": {},
   "source": [
    "**f) Permutaciones del conjunto**"
   ]
  },
  {
   "cell_type": "code",
   "execution_count": 104,
   "metadata": {},
   "outputs": [
    {
     "name": "stdout",
     "output_type": "stream",
     "text": [
      "71536470161623787274162004373160271741109473427183973222444335171360783120448571241917942513528949352091429656078068377190400000000000000000000000\n"
     ]
    }
   ],
   "source": [
    "# Verificar si hay otro metdo\n",
    "# Encontrar la cantidad de apariciones de cada uno es O(n)\n",
    "# Tiempo Costo factorial es O(k) => Total e O(Sumatoria(apariciones) + n) + (numeros distintos)) => Peor caso O(n + n + n)= O(n) => Mejor caso O(n) => Caso promedio O(n) \n",
    "#                                       apariciones!             cant!      reduce\n",
    "# Tamaño O(n + numeros_distintos)\n",
    "# Sumatoria(apariciones) = n\n",
    "\n",
    "permutaciones = factorial(cantidad)//reduce(lambda x,y: x*y, [factorial(aparicion)\n",
    "                                                                  for aparicion in apariciones.values()])\n",
    "\n",
    "print(permutaciones)"
   ]
  },
  {
   "cell_type": "markdown",
   "metadata": {},
   "source": [
    "**g) Variaciones del conjunto tomados de r elementos (r«n)**"
   ]
  },
  {
   "cell_type": "code",
   "execution_count": 4,
   "metadata": {},
   "outputs": [
    {
     "name": "stdout",
     "output_type": "stream",
     "text": [
      "[0, 1, 2, 4, 5, 8, 9, 11, 14, 15, 16, 18, 19, 20, 21, 22, 24, 25, 26, 27, 28, 29, 31, 32, 33, 35, 36, 37, 38, 39, 40, 42, 44, 48, 50, 52, 53, 54, 56, 57, 58, 60, 61, 62, 63, 65, 66, 69, 70, 72, 73, 74, 75, 77, 78, 79, 80, 82, 83, 86, 89, 90, 96, 98]\n",
      "4032\n"
     ]
    }
   ],
   "source": [
    "# Variaciones de 'n' elementos tomados de a 'r'\n",
    "# v = n!/(n-r)!\n",
    "# sin repetición -> primero hay que filtrar los repetidos\n",
    "# O(n) -> filter(lista) + O(1) -> calcular número\n",
    "\n",
    "lista_filt = list(set(vector))\n",
    "print(lista_filt)\n",
    "\n",
    "r = 2 # tomados de a dos elementos, por ejemplo\n",
    "variaciones = factorial(len(lista_filt)) // factorial(len(lista_filt) - r)\n",
    "print(variaciones)"
   ]
  },
  {
   "cell_type": "markdown",
   "metadata": {},
   "source": [
    "**h) Variaciones con repetición del conjunto de r elementos (r«n)**"
   ]
  },
  {
   "cell_type": "code",
   "execution_count": null,
   "metadata": {},
   "outputs": [],
   "source": [
    "# Variaciones de 'n' elementos tomados de a 'r'\n",
    "# hay repetición\n",
    "# O(1) -> calcular número\n",
    "\n",
    "r = 2  # tomados de a 2, por ejemplo\n",
    "variaciones_rep = len(lista) ** r\n",
    "print(variaciones_rep)"
   ]
  },
  {
   "cell_type": "markdown",
   "metadata": {},
   "source": [
    "## Los valores están ordenados en un vector de mayor a menor"
   ]
  },
  {
   "cell_type": "code",
   "execution_count": 82,
   "metadata": {},
   "outputs": [
    {
     "name": "stdout",
     "output_type": "stream",
     "text": [
      "[99, 98, 97, 96, 96, 94, 94, 93, 91, 91, 91, 91, 91, 90, 90, 89, 88, 88, 83, 82, 81, 80, 79, 76, 74, 74, 72, 68, 68, 68, 66, 64, 62, 60, 59, 59, 58, 58, 58, 55, 55, 54, 54, 52, 52, 51, 51, 50, 48, 46, 44, 44, 44, 43, 42, 39, 38, 37, 37, 36, 35, 34, 33, 33, 32, 32, 30, 28, 27, 27, 26, 26, 25, 23, 23, 22, 20, 20, 19, 18, 17, 15, 15, 13, 13, 12, 12, 11, 9, 8, 8, 8, 8, 7, 5, 3, 2, 1, 1, 0]\n"
     ]
    }
   ],
   "source": [
    "vector = sorted(vector, reverse=True)\n",
    "print(vector)"
   ]
  },
  {
   "cell_type": "markdown",
   "metadata": {},
   "source": [
    "**a) Máximo**"
   ]
  },
  {
   "cell_type": "code",
   "execution_count": 16,
   "metadata": {},
   "outputs": [],
   "source": [
    "# Tiempo O(1) Mejor, peor, promedio\n",
    "# Tamaño O(n + 1) Mejor, peor, promedio\n",
    "\n",
    "maximo = vector[0]"
   ]
  },
  {
   "cell_type": "markdown",
   "metadata": {},
   "source": [
    "**b) Media** "
   ]
  },
  {
   "cell_type": "code",
   "execution_count": 84,
   "metadata": {},
   "outputs": [
    {
     "name": "stdout",
     "output_type": "stream",
     "text": [
      "47.89\n"
     ]
    }
   ],
   "source": [
    "# Tiempo O(n) Mejor, peor, promedio\n",
    "# Tamaño O(n + 1) Mejor, peor, promedio\n",
    "\n",
    "media = 0\n",
    "cantidad = 0\n",
    "for elemento in vector:\n",
    "    media += elemento\n",
    "    cantidad += 1\n",
    "    \n",
    "media = media/cantidad\n",
    "print(media)"
   ]
  },
  {
   "cell_type": "markdown",
   "metadata": {},
   "source": [
    "**c) Moda**"
   ]
  },
  {
   "cell_type": "code",
   "execution_count": 101,
   "metadata": {},
   "outputs": [
    {
     "name": "stdout",
     "output_type": "stream",
     "text": [
      "91\n",
      "5\n"
     ]
    }
   ],
   "source": [
    "# Tamaño O(n + 1) mejor, peor, promedio\n",
    "# Tiempo O(n) mejor, peor, promedio\n",
    "\n",
    "apariciones_actual = 0\n",
    "elemento_previo = None\n",
    "maxima_aparicion = 0\n",
    "moda = None\n",
    "\n",
    "for elemento in vector:\n",
    "    if elemento != elemento_previo:\n",
    "        moda = elemento_previo if maxima_aparicion < apariciones_actual else moda\n",
    "        maxima_aparicion = apariciones_actual if maxima_aparicion < apariciones_actual else maxima_aparicion\n",
    "        elemento_previo = elemento\n",
    "        apariciones_actual = 0\n",
    "    apariciones_actual += 1\n",
    "\n",
    "maxima_aparicion = apariciones_actual if maxima_aparicion < apariciones_actual else maxima_aparicion\n",
    "moda = elemento_previo if maxima_aparicion < apariciones_actual else moda\n",
    "\n",
    "print(moda)\n",
    "print(maxima_aparicion)"
   ]
  },
  {
   "cell_type": "markdown",
   "metadata": {},
   "source": [
    "**d) Mediana**"
   ]
  },
  {
   "cell_type": "code",
   "execution_count": 102,
   "metadata": {},
   "outputs": [
    {
     "name": "stdout",
     "output_type": "stream",
     "text": [
      "47.0\n"
     ]
    }
   ],
   "source": [
    "# Tiempo O(1) mejor, peor, promedio (asumo len(vector) e O(1))\n",
    "# Tamaño O(n + 1) mejor, peor, promedio\n",
    "\n",
    "if len(vector) % 2 == 1:\n",
    "    print(ordenado[len(vector) // 2])\n",
    "else:\n",
    "    print((ordenado[len(vector) // 2] + ordenado[len(vector) // 2 + 1 ]) / 2)"
   ]
  },
  {
   "cell_type": "markdown",
   "metadata": {},
   "source": [
    "**e) Desviación estándar**"
   ]
  },
  {
   "cell_type": "code",
   "execution_count": 103,
   "metadata": {},
   "outputs": [
    {
     "name": "stdout",
     "output_type": "stream",
     "text": [
      "29.880058567546353\n"
     ]
    }
   ],
   "source": [
    "# media Calculada en un ejercicio anterior en O(n)\n",
    "# Tiempo O(n) mejor, peor, promedio (asumo len(vector) e O(1))\n",
    "# Tamaño O(1) mejor, peor, promedio\n",
    "\n",
    "varianza = 0\n",
    "for elemento in vector:\n",
    "    varianza += (media - elemento)**2\n",
    "\n",
    "varianza = varianza/cantidad\n",
    "desvio = sqrt(varianza)\n",
    "\n",
    "print(desvio)"
   ]
  },
  {
   "cell_type": "markdown",
   "metadata": {},
   "source": [
    "**f) Permutaciones del conjunto**"
   ]
  },
  {
   "cell_type": "code",
   "execution_count": null,
   "metadata": {},
   "outputs": [],
   "source": [
    "# Verificar si hay otro metdo\n",
    "# Encontrar la cantidad de apariciones de cada uno es O(n)\n",
    "# Tiempo Costo factorial es O(k) => Total e O(Sumatoria(apariciones) + n) + (numeros distintos)) => Peor caso O(n + n + n)= O(n) => Mejor caso O(n) => Caso promedio O(n) \n",
    "#                                       apariciones!             cant!      reduce\n",
    "# Tamaño O(n + numeros_distintos)\n",
    "# Sumatoria(apariciones) = n\n",
    "\n",
    "permutaciones = factorial(cantidad)//reduce(lambda x,y: x*y, [factorial(aparicion)\n",
    "                                                                  for aparicion in apariciones.values()])\n",
    "\n",
    "print(permutaciones)"
   ]
  },
  {
   "cell_type": "markdown",
   "metadata": {},
   "source": [
    "**g) Variaciones del conjunto tomados de r elementos (r«n)**"
   ]
  },
  {
   "cell_type": "code",
   "execution_count": null,
   "metadata": {},
   "outputs": [],
   "source": [
    "# Variaciones de 'n' elementos tomados de a 'r'\n",
    "# v = n!/(n-r)!\n",
    "# sin repetición -> primero hay que filtrar los repetidos\n",
    "# O(n) -> filter(lista) + O(1) -> calcular número\n",
    "\n",
    "lista_filt = sllist(set(lista))\n",
    "print(lista_filt)\n",
    "\n",
    "r = 2 # tomados de a dos elementos, por ejemplo\n",
    "variaciones = factorial(len(lista_filt)) // factorial(len(lista_filt) - r)\n",
    "print(variaciones)"
   ]
  },
  {
   "cell_type": "markdown",
   "metadata": {},
   "source": [
    "**h) Variaciones con repetición del conjunto de r elementos (r«n)**"
   ]
  },
  {
   "cell_type": "code",
   "execution_count": null,
   "metadata": {},
   "outputs": [],
   "source": [
    "# Variaciones de 'n' elementos tomados de a 'r'\n",
    "# hay repetición\n",
    "# O(1) -> calcular número\n",
    "\n",
    "r = 2  # tomados de a 2, por ejemplo\n",
    "variaciones_rep = len(lista) ** r\n",
    "print(variaciones_rep)"
   ]
  },
  {
   "cell_type": "markdown",
   "metadata": {},
   "source": [
    "## Los valores están precargados en un estructura sugerida por el grupo."
   ]
  },
  {
   "cell_type": "markdown",
   "metadata": {},
   "source": [
    "**a) Máximo**"
   ]
  },
  {
   "cell_type": "code",
   "execution_count": 3,
   "metadata": {},
   "outputs": [
    {
     "name": "stdout",
     "output_type": "stream",
     "text": [
      "99\n"
     ]
    }
   ],
   "source": [
    "# Se puede utilizar un Heap de máximos\n",
    "# Colocar todos los elementos en el Heap es O(n)\n",
    "# Obtener el máximo es O(1)\n",
    "#\n",
    "# El heap implmentado es de mínimos,\n",
    "# para que sea de máximos, se multiplica\n",
    "# cada valor por -1 y se invierte el orden.\n",
    "# Luego, cuando se retiran se lo vuelve a\n",
    "# multiplicar por -1.\n",
    "\n",
    "from heapq import heappop, heappush\n",
    "\n",
    "h = []\n",
    "\n",
    "for v in vector:\n",
    "    heappush(h, -v)\n",
    "    \n",
    "maximo = -heappop(h)\n",
    "\n",
    "print(maximo)"
   ]
  },
  {
   "cell_type": "markdown",
   "metadata": {},
   "source": [
    "**b) Media** "
   ]
  },
  {
   "cell_type": "code",
   "execution_count": 4,
   "metadata": {},
   "outputs": [],
   "source": [
    "# No importa la estructura que se utilice,\n",
    "# se deben recorrer todos los elementos\n",
    "# para poder calcular la media.\n",
    "#\n",
    "# Se puede utilizar cualquiera de las estructuras\n",
    "# previamente mencionadas.\n",
    "#\n",
    "# Siempre será O(n)"
   ]
  },
  {
   "cell_type": "markdown",
   "metadata": {},
   "source": [
    "**c) Moda**"
   ]
  },
  {
   "cell_type": "code",
   "execution_count": 9,
   "metadata": {},
   "outputs": [
    {
     "name": "stdout",
     "output_type": "stream",
     "text": [
      "Moda: 93 con valor: 5\n"
     ]
    }
   ],
   "source": [
    "# Se cargan los valores del\n",
    "# vector en un 'diccionario' y se guardan\n",
    "# como valor un contador que se aumenta\n",
    "# cada vez que se encuentre una nueva aparición\n",
    "# del mismo elemento -> O(n)\n",
    "#\n",
    "# Luego se genera un heap de máximos\n",
    "# con las tuplas (valor, ocurrencias)\n",
    "#   -> O(k*log(k)) con k = cantidad de números\n",
    "#                             diferentes.\n",
    "# \n",
    "# Finalmente se obtine el primer elemento\n",
    "# que es el máximo de ocurrecias -> O(1)\n",
    "#\n",
    "# Espacio: O(k) [k: cantidad de elementos diferentes\n",
    "#    peor caso -> O(n)] + O(n) [vector incial]\n",
    "#  -> resultado: O(n)\n",
    "\n",
    "from heapq import heappop, heappush\n",
    "\n",
    "d = {}\n",
    "\n",
    "for val in vector:\n",
    "    if val not in d:\n",
    "        d[val] = 1\n",
    "    else:\n",
    "        d[val] += 1\n",
    "\n",
    "its = list(d.items())\n",
    "\n",
    "h = []\n",
    "\n",
    "for e in its:\n",
    "    heappush(h, (-e[1], e[0]))\n",
    "    \n",
    "m = heappop(h)\n",
    "\n",
    "moda = m[1]\n",
    "valor = -m[0]\n",
    "\n",
    "print(\"Moda: {} con valor: {}\".format(moda, valor))"
   ]
  },
  {
   "cell_type": "markdown",
   "metadata": {},
   "source": [
    "**d) Mediana**"
   ]
  },
  {
   "cell_type": "code",
   "execution_count": null,
   "metadata": {},
   "outputs": [],
   "source": [
    "# La mejor opción es utilizar\n",
    "# un vector, ordenarlo y dependiendo\n",
    "# del tamaño hacer:\n",
    "#\n",
    "# Par:\n",
    "#    mediana = media(ordenado[len(v)/2], ordenado[len(v)/2+1])\n",
    "# Impar:\n",
    "#    mediana = ordenado[len(v)/2]\n",
    "#"
   ]
  },
  {
   "cell_type": "markdown",
   "metadata": {},
   "source": [
    "**e) Desviación estándar**"
   ]
  },
  {
   "cell_type": "code",
   "execution_count": null,
   "metadata": {},
   "outputs": [],
   "source": [
    "# Teniendo calculada la Media,\n",
    "# la desviación estándar, depende de\n",
    "# todos los elementos del vector,\n",
    "# con lo cual, es independiente\n",
    "# de la estructura utilizada.\n",
    "# \n",
    "# Siempre será O(n)"
   ]
  },
  {
   "cell_type": "markdown",
   "metadata": {},
   "source": [
    "**f) Permutaciones del conjunto**"
   ]
  },
  {
   "cell_type": "code",
   "execution_count": 10,
   "metadata": {},
   "outputs": [
    {
     "name": "stdout",
     "output_type": "stream",
     "text": [
      "110395787286456461842842599341296715649860298498740699417352369091606146790815696360984479187544674926067021074194549964800000000000000000000000\n"
     ]
    }
   ],
   "source": [
    "# Se calculan las ocurrencias\n",
    "# de cada uno de los elementos,\n",
    "# guardándolas en un diccionario.\n",
    "# \n",
    "# Se calculan las permutaciones\n",
    "# como: n!/(p1!*p2!*..*pk!)\n",
    "\n",
    "d = {}\n",
    "\n",
    "for val in vector:\n",
    "    if val not in d:\n",
    "        d[val] = 1\n",
    "    else:\n",
    "        d[val] += 1\n",
    "\n",
    "ocurrencias = map(lambda x: x[1], list(d.items()))\n",
    "\n",
    "apariciones = reduce(lambda x,y: x * y, [factorial(o) for o in ocurrencias])\n",
    "\n",
    "permutaciones = factorial(len(vector))//apariciones\n",
    "\n",
    "print(permutaciones)"
   ]
  },
  {
   "cell_type": "markdown",
   "metadata": {},
   "source": [
    "**g) Variaciones del conjunto tomados de r elementos (r«n)**"
   ]
  },
  {
   "cell_type": "code",
   "execution_count": null,
   "metadata": {},
   "outputs": [],
   "source": [
    "# Es calcular un número que\n",
    "# depende del tamaño del vector\n",
    "# y de la cantidad de elementos a\n",
    "# tomar: v = n!/(n-r)!"
   ]
  },
  {
   "cell_type": "markdown",
   "metadata": {},
   "source": [
    "**h) Variaciones con repetición del conjunto de r elementos (r«n)**"
   ]
  },
  {
   "cell_type": "code",
   "execution_count": null,
   "metadata": {},
   "outputs": [],
   "source": [
    "# Es calcular un número\n",
    "# que depende de len(v) y de\n",
    "# la cantidad de elementos a tomar:\n",
    "# v = n**r"
   ]
  }
 ],
 "metadata": {
  "kernelspec": {
   "display_name": "Python 3",
   "language": "python",
   "name": "python3"
  },
  "language_info": {
   "codemirror_mode": {
    "name": "ipython",
    "version": 3
   },
   "file_extension": ".py",
   "mimetype": "text/x-python",
   "name": "python",
   "nbconvert_exporter": "python",
   "pygments_lexer": "ipython3",
   "version": "3.6.7"
  }
 },
 "nbformat": 4,
 "nbformat_minor": 2
}
